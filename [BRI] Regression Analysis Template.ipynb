{
 "cells": [
  {
   "cell_type": "code",
   "execution_count": 9,
   "metadata": {
    "scrolled": true
   },
   "outputs": [
    {
     "name": "stdout",
     "output_type": "stream",
     "text": [
      "Collecting plotly\n",
      "  Downloading plotly-5.10.0-py2.py3-none-any.whl (15.2 MB)\n",
      "Collecting tenacity>=6.2.0\n",
      "  Downloading tenacity-8.0.1-py3-none-any.whl (24 kB)\n",
      "Installing collected packages: tenacity, plotly\n",
      "Successfully installed plotly-5.10.0 tenacity-8.0.1\n"
     ]
    }
   ],
   "source": [
    "!pip install plotly"
   ]
  },
  {
   "cell_type": "code",
   "execution_count": 11,
   "metadata": {},
   "outputs": [],
   "source": [
    "import pandas as pd # for data manipulation\n",
    "import numpy as np # for data manipulation\n",
    "from sklearn.linear_model import LinearRegression # to build a LR model for comparison\n",
    "import plotly.graph_objects as go # for data visualization\n",
    "import plotly.express as px # for data visualization \n",
    "import statsmodels.api as sm # to build a LOWESS model\n",
    "from scipy.interpolate import interp1d # for interpolation of new data points"
   ]
  },
  {
   "cell_type": "code",
   "execution_count": 12,
   "metadata": {},
   "outputs": [],
   "source": [
    "pd.set_option(\"Max_Columns\", None)"
   ]
  },
  {
   "cell_type": "code",
   "execution_count": 13,
   "metadata": {},
   "outputs": [
    {
     "data": {
      "text/html": [
       "<div>\n",
       "<style scoped>\n",
       "    .dataframe tbody tr th:only-of-type {\n",
       "        vertical-align: middle;\n",
       "    }\n",
       "\n",
       "    .dataframe tbody tr th {\n",
       "        vertical-align: top;\n",
       "    }\n",
       "\n",
       "    .dataframe thead th {\n",
       "        text-align: right;\n",
       "    }\n",
       "</style>\n",
       "<table border=\"1\" class=\"dataframe\">\n",
       "  <thead>\n",
       "    <tr style=\"text-align: right;\">\n",
       "      <th></th>\n",
       "      <th>Index</th>\n",
       "      <th>Year of Service</th>\n",
       "      <th>Q2 20 SC</th>\n",
       "      <th>Q2_Incentive</th>\n",
       "      <th>Grade</th>\n",
       "      <th>TOTAL REV_Jul20</th>\n",
       "      <th>Q2 20WM Revenue % Ach</th>\n",
       "      <th>Q2 20CASA Growth % Ach</th>\n",
       "      <th>TOTAL NQC/NTB %Ach_Jul20</th>\n",
       "      <th>TOTAL Mob_Banking %Ach_Jul20</th>\n",
       "      <th>Jul20_WM</th>\n",
       "      <th>Jul20_CS ACH</th>\n",
       "    </tr>\n",
       "  </thead>\n",
       "  <tbody>\n",
       "    <tr>\n",
       "      <th>0</th>\n",
       "      <td>1</td>\n",
       "      <td>9</td>\n",
       "      <td>2.4600</td>\n",
       "      <td>8.786319e+07</td>\n",
       "      <td>11</td>\n",
       "      <td>8.794014e+08</td>\n",
       "      <td>4.832649</td>\n",
       "      <td>-0.346644</td>\n",
       "      <td>0.0</td>\n",
       "      <td>0.485597</td>\n",
       "      <td>750455620.8</td>\n",
       "      <td>0.26</td>\n",
       "    </tr>\n",
       "    <tr>\n",
       "      <th>1</th>\n",
       "      <td>2</td>\n",
       "      <td>10</td>\n",
       "      <td>3.2550</td>\n",
       "      <td>7.898679e+07</td>\n",
       "      <td>12</td>\n",
       "      <td>8.192389e+08</td>\n",
       "      <td>2.355982</td>\n",
       "      <td>-21.088729</td>\n",
       "      <td>0.5</td>\n",
       "      <td>0.712338</td>\n",
       "      <td>427931769.8</td>\n",
       "      <td>0.74</td>\n",
       "    </tr>\n",
       "    <tr>\n",
       "      <th>2</th>\n",
       "      <td>3</td>\n",
       "      <td>5</td>\n",
       "      <td>1.7825</td>\n",
       "      <td>2.166796e+07</td>\n",
       "      <td>11</td>\n",
       "      <td>7.793109e+08</td>\n",
       "      <td>0.907896</td>\n",
       "      <td>8.469858</td>\n",
       "      <td>0.0</td>\n",
       "      <td>0.723232</td>\n",
       "      <td>469477058.6</td>\n",
       "      <td>1.86</td>\n",
       "    </tr>\n",
       "    <tr>\n",
       "      <th>3</th>\n",
       "      <td>4</td>\n",
       "      <td>4</td>\n",
       "      <td>1.7875</td>\n",
       "      <td>1.398703e+08</td>\n",
       "      <td>12</td>\n",
       "      <td>2.084217e+09</td>\n",
       "      <td>4.331416</td>\n",
       "      <td>-9.162848</td>\n",
       "      <td>1.0</td>\n",
       "      <td>0.562074</td>\n",
       "      <td>824765897.9</td>\n",
       "      <td>0.97</td>\n",
       "    </tr>\n",
       "    <tr>\n",
       "      <th>4</th>\n",
       "      <td>5</td>\n",
       "      <td>8</td>\n",
       "      <td>1.9825</td>\n",
       "      <td>1.440724e+07</td>\n",
       "      <td>11</td>\n",
       "      <td>6.514022e+08</td>\n",
       "      <td>0.393369</td>\n",
       "      <td>11.763723</td>\n",
       "      <td>0.0</td>\n",
       "      <td>0.460099</td>\n",
       "      <td>426004328.0</td>\n",
       "      <td>1.14</td>\n",
       "    </tr>\n",
       "  </tbody>\n",
       "</table>\n",
       "</div>"
      ],
      "text/plain": [
       "   Index  Year of Service  Q2 20 SC   Q2_Incentive  Grade  TOTAL REV_Jul20  \\\n",
       "0      1                9     2.4600  8.786319e+07     11     8.794014e+08   \n",
       "1      2               10     3.2550  7.898679e+07     12     8.192389e+08   \n",
       "2      3                5     1.7825  2.166796e+07     11     7.793109e+08   \n",
       "3      4                4     1.7875  1.398703e+08     12     2.084217e+09   \n",
       "4      5                8     1.9825  1.440724e+07     11     6.514022e+08   \n",
       "\n",
       "   Q2 20WM Revenue % Ach  Q2 20CASA Growth % Ach  TOTAL NQC/NTB %Ach_Jul20  \\\n",
       "0               4.832649               -0.346644                       0.0   \n",
       "1               2.355982              -21.088729                       0.5   \n",
       "2               0.907896                8.469858                       0.0   \n",
       "3               4.331416               -9.162848                       1.0   \n",
       "4               0.393369               11.763723                       0.0   \n",
       "\n",
       "   TOTAL Mob_Banking %Ach_Jul20     Jul20_WM  Jul20_CS ACH  \n",
       "0                      0.485597  750455620.8          0.26  \n",
       "1                      0.712338  427931769.8          0.74  \n",
       "2                      0.723232  469477058.6          1.86  \n",
       "3                      0.562074  824765897.9          0.97  \n",
       "4                      0.460099  426004328.0          1.14  "
      ]
     },
     "execution_count": 13,
     "metadata": {},
     "output_type": "execute_result"
    }
   ],
   "source": [
    "df = pd.read_csv(\"[BRI] Regression Training.csv\", low_memory = False)\n",
    "df.head()"
   ]
  },
  {
   "cell_type": "code",
   "execution_count": 14,
   "metadata": {},
   "outputs": [
    {
     "data": {
      "text/plain": [
       "(144, 12)"
      ]
     },
     "execution_count": 14,
     "metadata": {},
     "output_type": "execute_result"
    }
   ],
   "source": [
    "df.shape"
   ]
  },
  {
   "cell_type": "code",
   "execution_count": 15,
   "metadata": {},
   "outputs": [
    {
     "data": {
      "text/plain": [
       "Index(['Index', 'Year of Service', 'Q2 20 SC ', 'Q2_Incentive', 'Grade',\n",
       "       'TOTAL REV_Jul20', 'Q2 20WM Revenue % Ach', 'Q2 20CASA Growth % Ach',\n",
       "       'TOTAL NQC/NTB %Ach_Jul20', 'TOTAL Mob_Banking %Ach_Jul20', 'Jul20_WM',\n",
       "       'Jul20_CS ACH'],\n",
       "      dtype='object')"
      ]
     },
     "execution_count": 15,
     "metadata": {},
     "output_type": "execute_result"
    }
   ],
   "source": [
    "df.columns"
   ]
  },
  {
   "cell_type": "code",
   "execution_count": 16,
   "metadata": {},
   "outputs": [
    {
     "data": {
      "text/plain": [
       "Index                           0\n",
       "Year of Service                 0\n",
       "Q2 20 SC                        0\n",
       "Q2_Incentive                    0\n",
       "Grade                           0\n",
       "TOTAL REV_Jul20                 0\n",
       "Q2 20WM Revenue % Ach           0\n",
       "Q2 20CASA Growth % Ach          0\n",
       "TOTAL NQC/NTB %Ach_Jul20        0\n",
       "TOTAL Mob_Banking %Ach_Jul20    0\n",
       "Jul20_WM                        0\n",
       "Jul20_CS ACH                    0\n",
       "dtype: int64"
      ]
     },
     "execution_count": 16,
     "metadata": {},
     "output_type": "execute_result"
    }
   ],
   "source": [
    "df.isna().sum()"
   ]
  },
  {
   "cell_type": "code",
   "execution_count": 17,
   "metadata": {},
   "outputs": [],
   "source": [
    "df.dropna(axis = 0, how = 'any', inplace = True)"
   ]
  },
  {
   "cell_type": "code",
   "execution_count": 18,
   "metadata": {},
   "outputs": [
    {
     "data": {
      "text/plain": [
       "Index                           0\n",
       "Year of Service                 0\n",
       "Q2 20 SC                        0\n",
       "Q2_Incentive                    0\n",
       "Grade                           0\n",
       "TOTAL REV_Jul20                 0\n",
       "Q2 20WM Revenue % Ach           0\n",
       "Q2 20CASA Growth % Ach          0\n",
       "TOTAL NQC/NTB %Ach_Jul20        0\n",
       "TOTAL Mob_Banking %Ach_Jul20    0\n",
       "Jul20_WM                        0\n",
       "Jul20_CS ACH                    0\n",
       "dtype: int64"
      ]
     },
     "execution_count": 18,
     "metadata": {},
     "output_type": "execute_result"
    }
   ],
   "source": [
    "df.isna().sum()"
   ]
  },
  {
   "cell_type": "code",
   "execution_count": 19,
   "metadata": {},
   "outputs": [
    {
     "data": {
      "text/plain": [
       "Index(['Index', 'Year of Service', 'Q2 20 SC ', 'Q2_Incentive', 'Grade',\n",
       "       'TOTAL REV_Jul20', 'Q2 20WM Revenue % Ach', 'Q2 20CASA Growth % Ach',\n",
       "       'TOTAL NQC/NTB %Ach_Jul20', 'TOTAL Mob_Banking %Ach_Jul20', 'Jul20_WM',\n",
       "       'Jul20_CS ACH'],\n",
       "      dtype='object')"
      ]
     },
     "execution_count": 19,
     "metadata": {},
     "output_type": "execute_result"
    }
   ],
   "source": [
    "df.columns"
   ]
  },
  {
   "cell_type": "code",
   "execution_count": 20,
   "metadata": {},
   "outputs": [
    {
     "data": {
      "text/plain": [
       "(144, 12)"
      ]
     },
     "execution_count": 20,
     "metadata": {},
     "output_type": "execute_result"
    }
   ],
   "source": [
    "df.shape"
   ]
  },
  {
   "cell_type": "code",
   "execution_count": 21,
   "metadata": {},
   "outputs": [
    {
     "data": {
      "application/vnd.plotly.v1+json": {
       "config": {
        "plotlyServerURL": "https://plot.ly"
       },
       "data": [
        {
         "hovertemplate": "Q2_Incentive=%{x}<br>Q2 20 SC =%{y}<extra></extra>",
         "legendgroup": "",
         "marker": {
          "color": "black",
          "opacity": 0.8,
          "size": 3,
          "symbol": "circle"
         },
         "mode": "markers",
         "name": "",
         "orientation": "v",
         "showlegend": false,
         "type": "scatter",
         "x": [
          87863193.96,
          78986787.41,
          21667964.21,
          139870313.4,
          14407238.96,
          23035939.15,
          42340804.98,
          22174016.6,
          45522076.26,
          36724660.87,
          31123970.52,
          4352583.168,
          17517904.65,
          6000000,
          33730311.54,
          22335992.52,
          24643771.59,
          49969872.71,
          13583705.84,
          16842956.95,
          26295880.34,
          12000000,
          11800039.25,
          11754293.66,
          12661335.88,
          12871129.43,
          63695608.09,
          0,
          20123472.58,
          12997861.26,
          51369826.15,
          26637453.73,
          12000000,
          0,
          12000000,
          4757228.914,
          6000000,
          13483213.6,
          20034443.09,
          10039917.9,
          12000000,
          17806305.99,
          3113343.875,
          6000000,
          19032649.4,
          19042506.47,
          33867819.4,
          6267050.563,
          12000000,
          3014358.624,
          16527841.78,
          12000000,
          6000000,
          1826829.518,
          10757603.15,
          12000000,
          12000000,
          14830544.17,
          12814988.83,
          0,
          14001525.24,
          10788133.37,
          14236561.78,
          12000000,
          12000000,
          12000000,
          10802915.97,
          12000000,
          6000000,
          14175600.9,
          12000000,
          6000000,
          11729843.7,
          6000000,
          25896190.83,
          25904489.71,
          6000000,
          6000000,
          13173383.13,
          6000000,
          12000000,
          0,
          5729203.545,
          0,
          1980000,
          8763616.857,
          1980000,
          0,
          0,
          4517025.499,
          0,
          5589738.316,
          12000000,
          0,
          0,
          13669507.56,
          0,
          10398473.17,
          11250682.86,
          6000000,
          8476155.598,
          0,
          0,
          6000000,
          6000000,
          0,
          0,
          0,
          0,
          0,
          18887045.6,
          6000000,
          0,
          6000000,
          0,
          6000000,
          0,
          0,
          0,
          0,
          0,
          0,
          6000000,
          0,
          1980000,
          18660442.72,
          0,
          6000000,
          6000000,
          6000000,
          1980000,
          6000000,
          0,
          0,
          3960000,
          0,
          12000000,
          0,
          0,
          0,
          8321448.767,
          1461461.212,
          0,
          2511333.305
         ],
         "xaxis": "x",
         "y": [
          2.46,
          3.255,
          1.7825,
          1.7875,
          1.9825,
          1.84,
          3.39,
          1.4375,
          9.38,
          1.8625,
          1.58,
          1.39,
          1.455,
          0.87,
          1.655,
          1.145,
          1.805,
          2.255,
          1.49,
          1.4575,
          1.535,
          0.555,
          1.6025,
          1.4025,
          1.195,
          1.3475,
          3.2925,
          0.7875,
          1.5675,
          0.9675,
          3.92,
          1.8725,
          1.0075,
          0.8,
          0.935,
          0.8425,
          0.5475,
          2.16,
          3.14,
          1.2275,
          0.735,
          1.09,
          0.7625,
          0.69,
          2.2425,
          1.405,
          1.875,
          1.055,
          1.035,
          0.9575,
          1.3025,
          0.955,
          0.805,
          0.9475,
          1.45,
          0.73,
          0.5225,
          1.135,
          1.435,
          0.555,
          1.2675,
          1.295,
          1.3725,
          0.9975,
          0.455,
          1.0875,
          0.84,
          0.695,
          0.665,
          1.1225,
          0.59,
          0.68,
          1.04,
          0.76,
          1.15,
          1.425,
          0.74,
          0.7375,
          1.245,
          0.57,
          1.09,
          0.7675,
          0.95,
          0.6525,
          0.5875,
          1.3825,
          0.43,
          0.5225,
          0.475,
          0.96,
          0.565,
          1.01,
          0.0425,
          0.3125,
          0.465,
          1,
          0.4375,
          0.8075,
          0.9875,
          0.5575,
          0.9525,
          0.4525,
          0.3025,
          0.605,
          0.435,
          0.66,
          0.45,
          0.7625,
          0.5225,
          0.29,
          0.79,
          0.6275,
          0.4475,
          0.2075,
          0.4375,
          0.6875,
          0.2075,
          0.1,
          0.2275,
          0.415,
          0.3725,
          0.2775,
          0.44,
          0.7275,
          0.6125,
          0.9525,
          0.4025,
          0.4225,
          0.285,
          0.2,
          0.5225,
          0.1525,
          0.4425,
          0.4175,
          0.8425,
          0.5625,
          0.6075,
          0.4675,
          0.3425,
          0.1325,
          0.93,
          0.906666667,
          0.205,
          0.695
         ],
         "yaxis": "y"
        }
       ],
       "layout": {
        "legend": {
         "tracegroupgap": 0
        },
        "margin": {
         "t": 60
        },
        "plot_bgcolor": "white",
        "template": {
         "data": {
          "bar": [
           {
            "error_x": {
             "color": "#2a3f5f"
            },
            "error_y": {
             "color": "#2a3f5f"
            },
            "marker": {
             "line": {
              "color": "#E5ECF6",
              "width": 0.5
             },
             "pattern": {
              "fillmode": "overlay",
              "size": 10,
              "solidity": 0.2
             }
            },
            "type": "bar"
           }
          ],
          "barpolar": [
           {
            "marker": {
             "line": {
              "color": "#E5ECF6",
              "width": 0.5
             },
             "pattern": {
              "fillmode": "overlay",
              "size": 10,
              "solidity": 0.2
             }
            },
            "type": "barpolar"
           }
          ],
          "carpet": [
           {
            "aaxis": {
             "endlinecolor": "#2a3f5f",
             "gridcolor": "white",
             "linecolor": "white",
             "minorgridcolor": "white",
             "startlinecolor": "#2a3f5f"
            },
            "baxis": {
             "endlinecolor": "#2a3f5f",
             "gridcolor": "white",
             "linecolor": "white",
             "minorgridcolor": "white",
             "startlinecolor": "#2a3f5f"
            },
            "type": "carpet"
           }
          ],
          "choropleth": [
           {
            "colorbar": {
             "outlinewidth": 0,
             "ticks": ""
            },
            "type": "choropleth"
           }
          ],
          "contour": [
           {
            "colorbar": {
             "outlinewidth": 0,
             "ticks": ""
            },
            "colorscale": [
             [
              0,
              "#0d0887"
             ],
             [
              0.1111111111111111,
              "#46039f"
             ],
             [
              0.2222222222222222,
              "#7201a8"
             ],
             [
              0.3333333333333333,
              "#9c179e"
             ],
             [
              0.4444444444444444,
              "#bd3786"
             ],
             [
              0.5555555555555556,
              "#d8576b"
             ],
             [
              0.6666666666666666,
              "#ed7953"
             ],
             [
              0.7777777777777778,
              "#fb9f3a"
             ],
             [
              0.8888888888888888,
              "#fdca26"
             ],
             [
              1,
              "#f0f921"
             ]
            ],
            "type": "contour"
           }
          ],
          "contourcarpet": [
           {
            "colorbar": {
             "outlinewidth": 0,
             "ticks": ""
            },
            "type": "contourcarpet"
           }
          ],
          "heatmap": [
           {
            "colorbar": {
             "outlinewidth": 0,
             "ticks": ""
            },
            "colorscale": [
             [
              0,
              "#0d0887"
             ],
             [
              0.1111111111111111,
              "#46039f"
             ],
             [
              0.2222222222222222,
              "#7201a8"
             ],
             [
              0.3333333333333333,
              "#9c179e"
             ],
             [
              0.4444444444444444,
              "#bd3786"
             ],
             [
              0.5555555555555556,
              "#d8576b"
             ],
             [
              0.6666666666666666,
              "#ed7953"
             ],
             [
              0.7777777777777778,
              "#fb9f3a"
             ],
             [
              0.8888888888888888,
              "#fdca26"
             ],
             [
              1,
              "#f0f921"
             ]
            ],
            "type": "heatmap"
           }
          ],
          "heatmapgl": [
           {
            "colorbar": {
             "outlinewidth": 0,
             "ticks": ""
            },
            "colorscale": [
             [
              0,
              "#0d0887"
             ],
             [
              0.1111111111111111,
              "#46039f"
             ],
             [
              0.2222222222222222,
              "#7201a8"
             ],
             [
              0.3333333333333333,
              "#9c179e"
             ],
             [
              0.4444444444444444,
              "#bd3786"
             ],
             [
              0.5555555555555556,
              "#d8576b"
             ],
             [
              0.6666666666666666,
              "#ed7953"
             ],
             [
              0.7777777777777778,
              "#fb9f3a"
             ],
             [
              0.8888888888888888,
              "#fdca26"
             ],
             [
              1,
              "#f0f921"
             ]
            ],
            "type": "heatmapgl"
           }
          ],
          "histogram": [
           {
            "marker": {
             "pattern": {
              "fillmode": "overlay",
              "size": 10,
              "solidity": 0.2
             }
            },
            "type": "histogram"
           }
          ],
          "histogram2d": [
           {
            "colorbar": {
             "outlinewidth": 0,
             "ticks": ""
            },
            "colorscale": [
             [
              0,
              "#0d0887"
             ],
             [
              0.1111111111111111,
              "#46039f"
             ],
             [
              0.2222222222222222,
              "#7201a8"
             ],
             [
              0.3333333333333333,
              "#9c179e"
             ],
             [
              0.4444444444444444,
              "#bd3786"
             ],
             [
              0.5555555555555556,
              "#d8576b"
             ],
             [
              0.6666666666666666,
              "#ed7953"
             ],
             [
              0.7777777777777778,
              "#fb9f3a"
             ],
             [
              0.8888888888888888,
              "#fdca26"
             ],
             [
              1,
              "#f0f921"
             ]
            ],
            "type": "histogram2d"
           }
          ],
          "histogram2dcontour": [
           {
            "colorbar": {
             "outlinewidth": 0,
             "ticks": ""
            },
            "colorscale": [
             [
              0,
              "#0d0887"
             ],
             [
              0.1111111111111111,
              "#46039f"
             ],
             [
              0.2222222222222222,
              "#7201a8"
             ],
             [
              0.3333333333333333,
              "#9c179e"
             ],
             [
              0.4444444444444444,
              "#bd3786"
             ],
             [
              0.5555555555555556,
              "#d8576b"
             ],
             [
              0.6666666666666666,
              "#ed7953"
             ],
             [
              0.7777777777777778,
              "#fb9f3a"
             ],
             [
              0.8888888888888888,
              "#fdca26"
             ],
             [
              1,
              "#f0f921"
             ]
            ],
            "type": "histogram2dcontour"
           }
          ],
          "mesh3d": [
           {
            "colorbar": {
             "outlinewidth": 0,
             "ticks": ""
            },
            "type": "mesh3d"
           }
          ],
          "parcoords": [
           {
            "line": {
             "colorbar": {
              "outlinewidth": 0,
              "ticks": ""
             }
            },
            "type": "parcoords"
           }
          ],
          "pie": [
           {
            "automargin": true,
            "type": "pie"
           }
          ],
          "scatter": [
           {
            "fillpattern": {
             "fillmode": "overlay",
             "size": 10,
             "solidity": 0.2
            },
            "type": "scatter"
           }
          ],
          "scatter3d": [
           {
            "line": {
             "colorbar": {
              "outlinewidth": 0,
              "ticks": ""
             }
            },
            "marker": {
             "colorbar": {
              "outlinewidth": 0,
              "ticks": ""
             }
            },
            "type": "scatter3d"
           }
          ],
          "scattercarpet": [
           {
            "marker": {
             "colorbar": {
              "outlinewidth": 0,
              "ticks": ""
             }
            },
            "type": "scattercarpet"
           }
          ],
          "scattergeo": [
           {
            "marker": {
             "colorbar": {
              "outlinewidth": 0,
              "ticks": ""
             }
            },
            "type": "scattergeo"
           }
          ],
          "scattergl": [
           {
            "marker": {
             "colorbar": {
              "outlinewidth": 0,
              "ticks": ""
             }
            },
            "type": "scattergl"
           }
          ],
          "scattermapbox": [
           {
            "marker": {
             "colorbar": {
              "outlinewidth": 0,
              "ticks": ""
             }
            },
            "type": "scattermapbox"
           }
          ],
          "scatterpolar": [
           {
            "marker": {
             "colorbar": {
              "outlinewidth": 0,
              "ticks": ""
             }
            },
            "type": "scatterpolar"
           }
          ],
          "scatterpolargl": [
           {
            "marker": {
             "colorbar": {
              "outlinewidth": 0,
              "ticks": ""
             }
            },
            "type": "scatterpolargl"
           }
          ],
          "scatterternary": [
           {
            "marker": {
             "colorbar": {
              "outlinewidth": 0,
              "ticks": ""
             }
            },
            "type": "scatterternary"
           }
          ],
          "surface": [
           {
            "colorbar": {
             "outlinewidth": 0,
             "ticks": ""
            },
            "colorscale": [
             [
              0,
              "#0d0887"
             ],
             [
              0.1111111111111111,
              "#46039f"
             ],
             [
              0.2222222222222222,
              "#7201a8"
             ],
             [
              0.3333333333333333,
              "#9c179e"
             ],
             [
              0.4444444444444444,
              "#bd3786"
             ],
             [
              0.5555555555555556,
              "#d8576b"
             ],
             [
              0.6666666666666666,
              "#ed7953"
             ],
             [
              0.7777777777777778,
              "#fb9f3a"
             ],
             [
              0.8888888888888888,
              "#fdca26"
             ],
             [
              1,
              "#f0f921"
             ]
            ],
            "type": "surface"
           }
          ],
          "table": [
           {
            "cells": {
             "fill": {
              "color": "#EBF0F8"
             },
             "line": {
              "color": "white"
             }
            },
            "header": {
             "fill": {
              "color": "#C8D4E3"
             },
             "line": {
              "color": "white"
             }
            },
            "type": "table"
           }
          ]
         },
         "layout": {
          "annotationdefaults": {
           "arrowcolor": "#2a3f5f",
           "arrowhead": 0,
           "arrowwidth": 1
          },
          "autotypenumbers": "strict",
          "coloraxis": {
           "colorbar": {
            "outlinewidth": 0,
            "ticks": ""
           }
          },
          "colorscale": {
           "diverging": [
            [
             0,
             "#8e0152"
            ],
            [
             0.1,
             "#c51b7d"
            ],
            [
             0.2,
             "#de77ae"
            ],
            [
             0.3,
             "#f1b6da"
            ],
            [
             0.4,
             "#fde0ef"
            ],
            [
             0.5,
             "#f7f7f7"
            ],
            [
             0.6,
             "#e6f5d0"
            ],
            [
             0.7,
             "#b8e186"
            ],
            [
             0.8,
             "#7fbc41"
            ],
            [
             0.9,
             "#4d9221"
            ],
            [
             1,
             "#276419"
            ]
           ],
           "sequential": [
            [
             0,
             "#0d0887"
            ],
            [
             0.1111111111111111,
             "#46039f"
            ],
            [
             0.2222222222222222,
             "#7201a8"
            ],
            [
             0.3333333333333333,
             "#9c179e"
            ],
            [
             0.4444444444444444,
             "#bd3786"
            ],
            [
             0.5555555555555556,
             "#d8576b"
            ],
            [
             0.6666666666666666,
             "#ed7953"
            ],
            [
             0.7777777777777778,
             "#fb9f3a"
            ],
            [
             0.8888888888888888,
             "#fdca26"
            ],
            [
             1,
             "#f0f921"
            ]
           ],
           "sequentialminus": [
            [
             0,
             "#0d0887"
            ],
            [
             0.1111111111111111,
             "#46039f"
            ],
            [
             0.2222222222222222,
             "#7201a8"
            ],
            [
             0.3333333333333333,
             "#9c179e"
            ],
            [
             0.4444444444444444,
             "#bd3786"
            ],
            [
             0.5555555555555556,
             "#d8576b"
            ],
            [
             0.6666666666666666,
             "#ed7953"
            ],
            [
             0.7777777777777778,
             "#fb9f3a"
            ],
            [
             0.8888888888888888,
             "#fdca26"
            ],
            [
             1,
             "#f0f921"
            ]
           ]
          },
          "colorway": [
           "#636efa",
           "#EF553B",
           "#00cc96",
           "#ab63fa",
           "#FFA15A",
           "#19d3f3",
           "#FF6692",
           "#B6E880",
           "#FF97FF",
           "#FECB52"
          ],
          "font": {
           "color": "#2a3f5f"
          },
          "geo": {
           "bgcolor": "white",
           "lakecolor": "white",
           "landcolor": "#E5ECF6",
           "showlakes": true,
           "showland": true,
           "subunitcolor": "white"
          },
          "hoverlabel": {
           "align": "left"
          },
          "hovermode": "closest",
          "mapbox": {
           "style": "light"
          },
          "paper_bgcolor": "white",
          "plot_bgcolor": "#E5ECF6",
          "polar": {
           "angularaxis": {
            "gridcolor": "white",
            "linecolor": "white",
            "ticks": ""
           },
           "bgcolor": "#E5ECF6",
           "radialaxis": {
            "gridcolor": "white",
            "linecolor": "white",
            "ticks": ""
           }
          },
          "scene": {
           "xaxis": {
            "backgroundcolor": "#E5ECF6",
            "gridcolor": "white",
            "gridwidth": 2,
            "linecolor": "white",
            "showbackground": true,
            "ticks": "",
            "zerolinecolor": "white"
           },
           "yaxis": {
            "backgroundcolor": "#E5ECF6",
            "gridcolor": "white",
            "gridwidth": 2,
            "linecolor": "white",
            "showbackground": true,
            "ticks": "",
            "zerolinecolor": "white"
           },
           "zaxis": {
            "backgroundcolor": "#E5ECF6",
            "gridcolor": "white",
            "gridwidth": 2,
            "linecolor": "white",
            "showbackground": true,
            "ticks": "",
            "zerolinecolor": "white"
           }
          },
          "shapedefaults": {
           "line": {
            "color": "#2a3f5f"
           }
          },
          "ternary": {
           "aaxis": {
            "gridcolor": "white",
            "linecolor": "white",
            "ticks": ""
           },
           "baxis": {
            "gridcolor": "white",
            "linecolor": "white",
            "ticks": ""
           },
           "bgcolor": "#E5ECF6",
           "caxis": {
            "gridcolor": "white",
            "linecolor": "white",
            "ticks": ""
           }
          },
          "title": {
           "x": 0.05
          },
          "xaxis": {
           "automargin": true,
           "gridcolor": "white",
           "linecolor": "white",
           "ticks": "",
           "title": {
            "standoff": 15
           },
           "zerolinecolor": "white",
           "zerolinewidth": 2
          },
          "yaxis": {
           "automargin": true,
           "gridcolor": "white",
           "linecolor": "white",
           "ticks": "",
           "title": {
            "standoff": 15
           },
           "zerolinecolor": "white",
           "zerolinewidth": 2
          }
         }
        },
        "title": {
         "font": {
          "color": "black"
         },
         "text": "Score Card Vs. Incentive Scatter Plot"
        },
        "xaxis": {
         "anchor": "y",
         "domain": [
          0,
          1
         ],
         "gridcolor": "lightgrey",
         "gridwidth": 1,
         "linecolor": "black",
         "linewidth": 1,
         "showgrid": true,
         "showline": true,
         "title": {
          "text": "Q2_Incentive"
         },
         "zeroline": true,
         "zerolinecolor": "lightgrey",
         "zerolinewidth": 1
        },
        "yaxis": {
         "anchor": "x",
         "domain": [
          0,
          1
         ],
         "gridcolor": "lightgrey",
         "gridwidth": 1,
         "linecolor": "black",
         "linewidth": 1,
         "showgrid": true,
         "showline": true,
         "title": {
          "text": "Q2 20 SC "
         },
         "zeroline": true,
         "zerolinecolor": "lightgrey",
         "zerolinewidth": 1
        }
       }
      },
      "text/html": [
       "<div>                            <div id=\"59e7baea-58c2-484e-a209-1081fac3c435\" class=\"plotly-graph-div\" style=\"height:525px; width:100%;\"></div>            <script type=\"text/javascript\">                require([\"plotly\"], function(Plotly) {                    window.PLOTLYENV=window.PLOTLYENV || {};                                    if (document.getElementById(\"59e7baea-58c2-484e-a209-1081fac3c435\")) {                    Plotly.newPlot(                        \"59e7baea-58c2-484e-a209-1081fac3c435\",                        [{\"hovertemplate\":\"Q2_Incentive=%{x}<br>Q2 20 SC =%{y}<extra></extra>\",\"legendgroup\":\"\",\"marker\":{\"color\":\"black\",\"opacity\":0.8,\"symbol\":\"circle\",\"size\":3},\"mode\":\"markers\",\"name\":\"\",\"orientation\":\"v\",\"showlegend\":false,\"x\":[87863193.96,78986787.41,21667964.21,139870313.4,14407238.96,23035939.15,42340804.98,22174016.6,45522076.26,36724660.87,31123970.52,4352583.168,17517904.65,6000000.0,33730311.54,22335992.52,24643771.59,49969872.71,13583705.84,16842956.95,26295880.34,12000000.0,11800039.25,11754293.66,12661335.88,12871129.43,63695608.09,0.0,20123472.58,12997861.26,51369826.15,26637453.73,12000000.0,0.0,12000000.0,4757228.914,6000000.0,13483213.6,20034443.09,10039917.9,12000000.0,17806305.99,3113343.875,6000000.0,19032649.4,19042506.47,33867819.4,6267050.563,12000000.0,3014358.624,16527841.78,12000000.0,6000000.0,1826829.518,10757603.15,12000000.0,12000000.0,14830544.17,12814988.83,0.0,14001525.24,10788133.37,14236561.78,12000000.0,12000000.0,12000000.0,10802915.97,12000000.0,6000000.0,14175600.9,12000000.0,6000000.0,11729843.7,6000000.0,25896190.83,25904489.71,6000000.0,6000000.0,13173383.13,6000000.0,12000000.0,0.0,5729203.545,0.0,1980000.0,8763616.857,1980000.0,0.0,0.0,4517025.499,0.0,5589738.316,12000000.0,0.0,0.0,13669507.56,0.0,10398473.17,11250682.86,6000000.0,8476155.598,0.0,0.0,6000000.0,6000000.0,0.0,0.0,0.0,0.0,0.0,18887045.6,6000000.0,0.0,6000000.0,0.0,6000000.0,0.0,0.0,0.0,0.0,0.0,0.0,6000000.0,0.0,1980000.0,18660442.72,0.0,6000000.0,6000000.0,6000000.0,1980000.0,6000000.0,0.0,0.0,3960000.0,0.0,12000000.0,0.0,0.0,0.0,8321448.767,1461461.212,0.0,2511333.305],\"xaxis\":\"x\",\"y\":[2.46,3.255,1.7825,1.7875,1.9825,1.84,3.39,1.4375,9.38,1.8625,1.58,1.39,1.455,0.87,1.655,1.145,1.805,2.255,1.49,1.4575,1.535,0.555,1.6025,1.4025,1.195,1.3475,3.2925,0.7875,1.5675,0.9675,3.92,1.8725,1.0075,0.8,0.935,0.8425,0.5475,2.16,3.14,1.2275,0.735,1.09,0.7625,0.69,2.2425,1.405,1.875,1.055,1.035,0.9575,1.3025,0.955,0.805,0.9475,1.45,0.73,0.5225,1.135,1.435,0.555,1.2675,1.295,1.3725,0.9975,0.455,1.0875,0.84,0.695,0.665,1.1225,0.59,0.68,1.04,0.76,1.15,1.425,0.74,0.7375,1.245,0.57,1.09,0.7675,0.95,0.6525,0.5875,1.3825,0.43,0.5225,0.475,0.96,0.565,1.01,0.0425,0.3125,0.465,1.0,0.4375,0.8075,0.9875,0.5575,0.9525,0.4525,0.3025,0.605,0.435,0.66,0.45,0.7625,0.5225,0.29,0.79,0.6275,0.4475,0.2075,0.4375,0.6875,0.2075,0.1,0.2275,0.415,0.3725,0.2775,0.44,0.7275,0.6125,0.9525,0.4025,0.4225,0.285,0.2,0.5225,0.1525,0.4425,0.4175,0.8425,0.5625,0.6075,0.4675,0.3425,0.1325,0.93,0.906666667,0.205,0.695],\"yaxis\":\"y\",\"type\":\"scatter\"}],                        {\"template\":{\"data\":{\"histogram2dcontour\":[{\"type\":\"histogram2dcontour\",\"colorbar\":{\"outlinewidth\":0,\"ticks\":\"\"},\"colorscale\":[[0.0,\"#0d0887\"],[0.1111111111111111,\"#46039f\"],[0.2222222222222222,\"#7201a8\"],[0.3333333333333333,\"#9c179e\"],[0.4444444444444444,\"#bd3786\"],[0.5555555555555556,\"#d8576b\"],[0.6666666666666666,\"#ed7953\"],[0.7777777777777778,\"#fb9f3a\"],[0.8888888888888888,\"#fdca26\"],[1.0,\"#f0f921\"]]}],\"choropleth\":[{\"type\":\"choropleth\",\"colorbar\":{\"outlinewidth\":0,\"ticks\":\"\"}}],\"histogram2d\":[{\"type\":\"histogram2d\",\"colorbar\":{\"outlinewidth\":0,\"ticks\":\"\"},\"colorscale\":[[0.0,\"#0d0887\"],[0.1111111111111111,\"#46039f\"],[0.2222222222222222,\"#7201a8\"],[0.3333333333333333,\"#9c179e\"],[0.4444444444444444,\"#bd3786\"],[0.5555555555555556,\"#d8576b\"],[0.6666666666666666,\"#ed7953\"],[0.7777777777777778,\"#fb9f3a\"],[0.8888888888888888,\"#fdca26\"],[1.0,\"#f0f921\"]]}],\"heatmap\":[{\"type\":\"heatmap\",\"colorbar\":{\"outlinewidth\":0,\"ticks\":\"\"},\"colorscale\":[[0.0,\"#0d0887\"],[0.1111111111111111,\"#46039f\"],[0.2222222222222222,\"#7201a8\"],[0.3333333333333333,\"#9c179e\"],[0.4444444444444444,\"#bd3786\"],[0.5555555555555556,\"#d8576b\"],[0.6666666666666666,\"#ed7953\"],[0.7777777777777778,\"#fb9f3a\"],[0.8888888888888888,\"#fdca26\"],[1.0,\"#f0f921\"]]}],\"heatmapgl\":[{\"type\":\"heatmapgl\",\"colorbar\":{\"outlinewidth\":0,\"ticks\":\"\"},\"colorscale\":[[0.0,\"#0d0887\"],[0.1111111111111111,\"#46039f\"],[0.2222222222222222,\"#7201a8\"],[0.3333333333333333,\"#9c179e\"],[0.4444444444444444,\"#bd3786\"],[0.5555555555555556,\"#d8576b\"],[0.6666666666666666,\"#ed7953\"],[0.7777777777777778,\"#fb9f3a\"],[0.8888888888888888,\"#fdca26\"],[1.0,\"#f0f921\"]]}],\"contourcarpet\":[{\"type\":\"contourcarpet\",\"colorbar\":{\"outlinewidth\":0,\"ticks\":\"\"}}],\"contour\":[{\"type\":\"contour\",\"colorbar\":{\"outlinewidth\":0,\"ticks\":\"\"},\"colorscale\":[[0.0,\"#0d0887\"],[0.1111111111111111,\"#46039f\"],[0.2222222222222222,\"#7201a8\"],[0.3333333333333333,\"#9c179e\"],[0.4444444444444444,\"#bd3786\"],[0.5555555555555556,\"#d8576b\"],[0.6666666666666666,\"#ed7953\"],[0.7777777777777778,\"#fb9f3a\"],[0.8888888888888888,\"#fdca26\"],[1.0,\"#f0f921\"]]}],\"surface\":[{\"type\":\"surface\",\"colorbar\":{\"outlinewidth\":0,\"ticks\":\"\"},\"colorscale\":[[0.0,\"#0d0887\"],[0.1111111111111111,\"#46039f\"],[0.2222222222222222,\"#7201a8\"],[0.3333333333333333,\"#9c179e\"],[0.4444444444444444,\"#bd3786\"],[0.5555555555555556,\"#d8576b\"],[0.6666666666666666,\"#ed7953\"],[0.7777777777777778,\"#fb9f3a\"],[0.8888888888888888,\"#fdca26\"],[1.0,\"#f0f921\"]]}],\"mesh3d\":[{\"type\":\"mesh3d\",\"colorbar\":{\"outlinewidth\":0,\"ticks\":\"\"}}],\"scatter\":[{\"fillpattern\":{\"fillmode\":\"overlay\",\"size\":10,\"solidity\":0.2},\"type\":\"scatter\"}],\"parcoords\":[{\"type\":\"parcoords\",\"line\":{\"colorbar\":{\"outlinewidth\":0,\"ticks\":\"\"}}}],\"scatterpolargl\":[{\"type\":\"scatterpolargl\",\"marker\":{\"colorbar\":{\"outlinewidth\":0,\"ticks\":\"\"}}}],\"bar\":[{\"error_x\":{\"color\":\"#2a3f5f\"},\"error_y\":{\"color\":\"#2a3f5f\"},\"marker\":{\"line\":{\"color\":\"#E5ECF6\",\"width\":0.5},\"pattern\":{\"fillmode\":\"overlay\",\"size\":10,\"solidity\":0.2}},\"type\":\"bar\"}],\"scattergeo\":[{\"type\":\"scattergeo\",\"marker\":{\"colorbar\":{\"outlinewidth\":0,\"ticks\":\"\"}}}],\"scatterpolar\":[{\"type\":\"scatterpolar\",\"marker\":{\"colorbar\":{\"outlinewidth\":0,\"ticks\":\"\"}}}],\"histogram\":[{\"marker\":{\"pattern\":{\"fillmode\":\"overlay\",\"size\":10,\"solidity\":0.2}},\"type\":\"histogram\"}],\"scattergl\":[{\"type\":\"scattergl\",\"marker\":{\"colorbar\":{\"outlinewidth\":0,\"ticks\":\"\"}}}],\"scatter3d\":[{\"type\":\"scatter3d\",\"line\":{\"colorbar\":{\"outlinewidth\":0,\"ticks\":\"\"}},\"marker\":{\"colorbar\":{\"outlinewidth\":0,\"ticks\":\"\"}}}],\"scattermapbox\":[{\"type\":\"scattermapbox\",\"marker\":{\"colorbar\":{\"outlinewidth\":0,\"ticks\":\"\"}}}],\"scatterternary\":[{\"type\":\"scatterternary\",\"marker\":{\"colorbar\":{\"outlinewidth\":0,\"ticks\":\"\"}}}],\"scattercarpet\":[{\"type\":\"scattercarpet\",\"marker\":{\"colorbar\":{\"outlinewidth\":0,\"ticks\":\"\"}}}],\"carpet\":[{\"aaxis\":{\"endlinecolor\":\"#2a3f5f\",\"gridcolor\":\"white\",\"linecolor\":\"white\",\"minorgridcolor\":\"white\",\"startlinecolor\":\"#2a3f5f\"},\"baxis\":{\"endlinecolor\":\"#2a3f5f\",\"gridcolor\":\"white\",\"linecolor\":\"white\",\"minorgridcolor\":\"white\",\"startlinecolor\":\"#2a3f5f\"},\"type\":\"carpet\"}],\"table\":[{\"cells\":{\"fill\":{\"color\":\"#EBF0F8\"},\"line\":{\"color\":\"white\"}},\"header\":{\"fill\":{\"color\":\"#C8D4E3\"},\"line\":{\"color\":\"white\"}},\"type\":\"table\"}],\"barpolar\":[{\"marker\":{\"line\":{\"color\":\"#E5ECF6\",\"width\":0.5},\"pattern\":{\"fillmode\":\"overlay\",\"size\":10,\"solidity\":0.2}},\"type\":\"barpolar\"}],\"pie\":[{\"automargin\":true,\"type\":\"pie\"}]},\"layout\":{\"autotypenumbers\":\"strict\",\"colorway\":[\"#636efa\",\"#EF553B\",\"#00cc96\",\"#ab63fa\",\"#FFA15A\",\"#19d3f3\",\"#FF6692\",\"#B6E880\",\"#FF97FF\",\"#FECB52\"],\"font\":{\"color\":\"#2a3f5f\"},\"hovermode\":\"closest\",\"hoverlabel\":{\"align\":\"left\"},\"paper_bgcolor\":\"white\",\"plot_bgcolor\":\"#E5ECF6\",\"polar\":{\"bgcolor\":\"#E5ECF6\",\"angularaxis\":{\"gridcolor\":\"white\",\"linecolor\":\"white\",\"ticks\":\"\"},\"radialaxis\":{\"gridcolor\":\"white\",\"linecolor\":\"white\",\"ticks\":\"\"}},\"ternary\":{\"bgcolor\":\"#E5ECF6\",\"aaxis\":{\"gridcolor\":\"white\",\"linecolor\":\"white\",\"ticks\":\"\"},\"baxis\":{\"gridcolor\":\"white\",\"linecolor\":\"white\",\"ticks\":\"\"},\"caxis\":{\"gridcolor\":\"white\",\"linecolor\":\"white\",\"ticks\":\"\"}},\"coloraxis\":{\"colorbar\":{\"outlinewidth\":0,\"ticks\":\"\"}},\"colorscale\":{\"sequential\":[[0.0,\"#0d0887\"],[0.1111111111111111,\"#46039f\"],[0.2222222222222222,\"#7201a8\"],[0.3333333333333333,\"#9c179e\"],[0.4444444444444444,\"#bd3786\"],[0.5555555555555556,\"#d8576b\"],[0.6666666666666666,\"#ed7953\"],[0.7777777777777778,\"#fb9f3a\"],[0.8888888888888888,\"#fdca26\"],[1.0,\"#f0f921\"]],\"sequentialminus\":[[0.0,\"#0d0887\"],[0.1111111111111111,\"#46039f\"],[0.2222222222222222,\"#7201a8\"],[0.3333333333333333,\"#9c179e\"],[0.4444444444444444,\"#bd3786\"],[0.5555555555555556,\"#d8576b\"],[0.6666666666666666,\"#ed7953\"],[0.7777777777777778,\"#fb9f3a\"],[0.8888888888888888,\"#fdca26\"],[1.0,\"#f0f921\"]],\"diverging\":[[0,\"#8e0152\"],[0.1,\"#c51b7d\"],[0.2,\"#de77ae\"],[0.3,\"#f1b6da\"],[0.4,\"#fde0ef\"],[0.5,\"#f7f7f7\"],[0.6,\"#e6f5d0\"],[0.7,\"#b8e186\"],[0.8,\"#7fbc41\"],[0.9,\"#4d9221\"],[1,\"#276419\"]]},\"xaxis\":{\"gridcolor\":\"white\",\"linecolor\":\"white\",\"ticks\":\"\",\"title\":{\"standoff\":15},\"zerolinecolor\":\"white\",\"automargin\":true,\"zerolinewidth\":2},\"yaxis\":{\"gridcolor\":\"white\",\"linecolor\":\"white\",\"ticks\":\"\",\"title\":{\"standoff\":15},\"zerolinecolor\":\"white\",\"automargin\":true,\"zerolinewidth\":2},\"scene\":{\"xaxis\":{\"backgroundcolor\":\"#E5ECF6\",\"gridcolor\":\"white\",\"linecolor\":\"white\",\"showbackground\":true,\"ticks\":\"\",\"zerolinecolor\":\"white\",\"gridwidth\":2},\"yaxis\":{\"backgroundcolor\":\"#E5ECF6\",\"gridcolor\":\"white\",\"linecolor\":\"white\",\"showbackground\":true,\"ticks\":\"\",\"zerolinecolor\":\"white\",\"gridwidth\":2},\"zaxis\":{\"backgroundcolor\":\"#E5ECF6\",\"gridcolor\":\"white\",\"linecolor\":\"white\",\"showbackground\":true,\"ticks\":\"\",\"zerolinecolor\":\"white\",\"gridwidth\":2}},\"shapedefaults\":{\"line\":{\"color\":\"#2a3f5f\"}},\"annotationdefaults\":{\"arrowcolor\":\"#2a3f5f\",\"arrowhead\":0,\"arrowwidth\":1},\"geo\":{\"bgcolor\":\"white\",\"landcolor\":\"#E5ECF6\",\"subunitcolor\":\"white\",\"showland\":true,\"showlakes\":true,\"lakecolor\":\"white\"},\"title\":{\"x\":0.05},\"mapbox\":{\"style\":\"light\"}}},\"xaxis\":{\"anchor\":\"y\",\"domain\":[0.0,1.0],\"title\":{\"text\":\"Q2_Incentive\"},\"showgrid\":true,\"gridwidth\":1,\"gridcolor\":\"lightgrey\",\"zeroline\":true,\"zerolinewidth\":1,\"zerolinecolor\":\"lightgrey\",\"showline\":true,\"linewidth\":1,\"linecolor\":\"black\"},\"yaxis\":{\"anchor\":\"x\",\"domain\":[0.0,1.0],\"title\":{\"text\":\"Q2 20 SC \"},\"showgrid\":true,\"gridwidth\":1,\"gridcolor\":\"lightgrey\",\"zeroline\":true,\"zerolinewidth\":1,\"zerolinecolor\":\"lightgrey\",\"showline\":true,\"linewidth\":1,\"linecolor\":\"black\"},\"legend\":{\"tracegroupgap\":0},\"margin\":{\"t\":60},\"plot_bgcolor\":\"white\",\"title\":{\"font\":{\"color\":\"black\"},\"text\":\"Score Card Vs. Incentive Scatter Plot\"}},                        {\"responsive\": true}                    ).then(function(){\n",
       "                            \n",
       "var gd = document.getElementById('59e7baea-58c2-484e-a209-1081fac3c435');\n",
       "var x = new MutationObserver(function (mutations, observer) {{\n",
       "        var display = window.getComputedStyle(gd).display;\n",
       "        if (!display || display === 'none') {{\n",
       "            console.log([gd, 'removed!']);\n",
       "            Plotly.purge(gd);\n",
       "            observer.disconnect();\n",
       "        }}\n",
       "}});\n",
       "\n",
       "// Listen for the removal of the full notebook cells\n",
       "var notebookContainer = gd.closest('#notebook-container');\n",
       "if (notebookContainer) {{\n",
       "    x.observe(notebookContainer, {childList: true});\n",
       "}}\n",
       "\n",
       "// Listen for the clearing of the current output cell\n",
       "var outputEl = gd.closest('.output');\n",
       "if (outputEl) {{\n",
       "    x.observe(outputEl, {childList: true});\n",
       "}}\n",
       "\n",
       "                        })                };                });            </script>        </div>"
      ]
     },
     "metadata": {},
     "output_type": "display_data"
    }
   ],
   "source": [
    "# Create a scatter plot\n",
    "fig = px.scatter(df, x=df['Q2_Incentive'], y=df['Q2 20 SC '], \n",
    "                 opacity=0.8, color_discrete_sequence=['black'])\n",
    "\n",
    "# Change chart background color\n",
    "fig.update_layout(dict(plot_bgcolor = 'white'))\n",
    "\n",
    "# Update axes lines\n",
    "fig.update_xaxes(showgrid=True, gridwidth=1, gridcolor='lightgrey', \n",
    "                 zeroline=True, zerolinewidth=1, zerolinecolor='lightgrey', \n",
    "                 showline=True, linewidth=1, linecolor='black')\n",
    "\n",
    "fig.update_yaxes(showgrid=True, gridwidth=1, gridcolor='lightgrey', \n",
    "                 zeroline=True, zerolinewidth=1, zerolinecolor='lightgrey', \n",
    "                 showline=True, linewidth=1, linecolor='black')\n",
    "\n",
    "# Set figure title\n",
    "fig.update_layout(title=dict(text=\"Score Card Vs. Incentive Scatter Plot\", \n",
    "                             font=dict(color='black')))\n",
    "\n",
    "# Update marker size\n",
    "fig.update_traces(marker=dict(size=3))\n",
    "\n",
    "fig.show()"
   ]
  },
  {
   "cell_type": "code",
   "execution_count": 22,
   "metadata": {},
   "outputs": [
    {
     "name": "stderr",
     "output_type": "stream",
     "text": [
      "C:\\ProgramData\\Anaconda3\\lib\\site-packages\\statsmodels\\nonparametric\\smoothers_lowess.py:214: RuntimeWarning:\n",
      "\n",
      "invalid value encountered in true_divide\n",
      "\n"
     ]
    }
   ],
   "source": [
    "# ------- Select variables -------\n",
    "# x values for Linear Regression\n",
    "X=df['Q2_Incentive'].values.reshape(-1,1) # Note, we need X to be a 2D array, hence reshape\n",
    "# x values for LOWESS\n",
    "x=df['Q2_Incentive'].values \n",
    "# y values for both\n",
    "y=df['Q2 20 SC '].values\n",
    "\n",
    "\n",
    "# ------- Linear Regression -------\n",
    "# Define and fit the model\n",
    "model1 = LinearRegression()\n",
    "LR = model1.fit(X, y)\n",
    "\n",
    "# Predict a few points with Linear Regression model for the grpah\n",
    "# Create 20 evenly spaced points from smallest X to largest X\n",
    "x_range = np.linspace(X.min(), X.max(), 20) \n",
    "# Predict y values for our set of X values\n",
    "y_range = model1.predict(x_range.reshape(-1, 1))\n",
    "\n",
    "\n",
    "# ------- LOWESS -------\n",
    "# Generate y_hat values using lowess, try a couple values for hyperparameters\n",
    "lowess = sm.nonparametric.lowess\n",
    "y_hat1 = lowess(y, x) # note, default frac=2/3\n",
    "y_hat2 = lowess(y, x, frac=1/5)"
   ]
  },
  {
   "cell_type": "code",
   "execution_count": 23,
   "metadata": {},
   "outputs": [
    {
     "data": {
      "application/vnd.plotly.v1+json": {
       "config": {
        "plotlyServerURL": "https://plot.ly"
       },
       "data": [
        {
         "hovertemplate": "Q2_Incentive=%{x}<br>Q2 20 SC =%{y}<extra></extra>",
         "legendgroup": "",
         "marker": {
          "color": "black",
          "opacity": 0.8,
          "size": 3,
          "symbol": "circle"
         },
         "mode": "markers",
         "name": "",
         "orientation": "v",
         "showlegend": false,
         "type": "scatter",
         "x": [
          87863193.96,
          78986787.41,
          21667964.21,
          139870313.4,
          14407238.96,
          23035939.15,
          42340804.98,
          22174016.6,
          45522076.26,
          36724660.87,
          31123970.52,
          4352583.168,
          17517904.65,
          6000000,
          33730311.54,
          22335992.52,
          24643771.59,
          49969872.71,
          13583705.84,
          16842956.95,
          26295880.34,
          12000000,
          11800039.25,
          11754293.66,
          12661335.88,
          12871129.43,
          63695608.09,
          0,
          20123472.58,
          12997861.26,
          51369826.15,
          26637453.73,
          12000000,
          0,
          12000000,
          4757228.914,
          6000000,
          13483213.6,
          20034443.09,
          10039917.9,
          12000000,
          17806305.99,
          3113343.875,
          6000000,
          19032649.4,
          19042506.47,
          33867819.4,
          6267050.563,
          12000000,
          3014358.624,
          16527841.78,
          12000000,
          6000000,
          1826829.518,
          10757603.15,
          12000000,
          12000000,
          14830544.17,
          12814988.83,
          0,
          14001525.24,
          10788133.37,
          14236561.78,
          12000000,
          12000000,
          12000000,
          10802915.97,
          12000000,
          6000000,
          14175600.9,
          12000000,
          6000000,
          11729843.7,
          6000000,
          25896190.83,
          25904489.71,
          6000000,
          6000000,
          13173383.13,
          6000000,
          12000000,
          0,
          5729203.545,
          0,
          1980000,
          8763616.857,
          1980000,
          0,
          0,
          4517025.499,
          0,
          5589738.316,
          12000000,
          0,
          0,
          13669507.56,
          0,
          10398473.17,
          11250682.86,
          6000000,
          8476155.598,
          0,
          0,
          6000000,
          6000000,
          0,
          0,
          0,
          0,
          0,
          18887045.6,
          6000000,
          0,
          6000000,
          0,
          6000000,
          0,
          0,
          0,
          0,
          0,
          0,
          6000000,
          0,
          1980000,
          18660442.72,
          0,
          6000000,
          6000000,
          6000000,
          1980000,
          6000000,
          0,
          0,
          3960000,
          0,
          12000000,
          0,
          0,
          0,
          8321448.767,
          1461461.212,
          0,
          2511333.305
         ],
         "xaxis": "x",
         "y": [
          2.46,
          3.255,
          1.7825,
          1.7875,
          1.9825,
          1.84,
          3.39,
          1.4375,
          9.38,
          1.8625,
          1.58,
          1.39,
          1.455,
          0.87,
          1.655,
          1.145,
          1.805,
          2.255,
          1.49,
          1.4575,
          1.535,
          0.555,
          1.6025,
          1.4025,
          1.195,
          1.3475,
          3.2925,
          0.7875,
          1.5675,
          0.9675,
          3.92,
          1.8725,
          1.0075,
          0.8,
          0.935,
          0.8425,
          0.5475,
          2.16,
          3.14,
          1.2275,
          0.735,
          1.09,
          0.7625,
          0.69,
          2.2425,
          1.405,
          1.875,
          1.055,
          1.035,
          0.9575,
          1.3025,
          0.955,
          0.805,
          0.9475,
          1.45,
          0.73,
          0.5225,
          1.135,
          1.435,
          0.555,
          1.2675,
          1.295,
          1.3725,
          0.9975,
          0.455,
          1.0875,
          0.84,
          0.695,
          0.665,
          1.1225,
          0.59,
          0.68,
          1.04,
          0.76,
          1.15,
          1.425,
          0.74,
          0.7375,
          1.245,
          0.57,
          1.09,
          0.7675,
          0.95,
          0.6525,
          0.5875,
          1.3825,
          0.43,
          0.5225,
          0.475,
          0.96,
          0.565,
          1.01,
          0.0425,
          0.3125,
          0.465,
          1,
          0.4375,
          0.8075,
          0.9875,
          0.5575,
          0.9525,
          0.4525,
          0.3025,
          0.605,
          0.435,
          0.66,
          0.45,
          0.7625,
          0.5225,
          0.29,
          0.79,
          0.6275,
          0.4475,
          0.2075,
          0.4375,
          0.6875,
          0.2075,
          0.1,
          0.2275,
          0.415,
          0.3725,
          0.2775,
          0.44,
          0.7275,
          0.6125,
          0.9525,
          0.4025,
          0.4225,
          0.285,
          0.2,
          0.5225,
          0.1525,
          0.4425,
          0.4175,
          0.8425,
          0.5625,
          0.6075,
          0.4675,
          0.3425,
          0.1325,
          0.93,
          0.906666667,
          0.205,
          0.695
         ],
         "yaxis": "y"
        },
        {
         "line": {
          "color": "limegreen"
         },
         "marker": {
          "size": 3
         },
         "name": "Linear Regression",
         "type": "scatter",
         "x": [
          0,
          7361595.4421052635,
          14723190.884210527,
          22084786.32631579,
          29446381.768421054,
          36807977.21052632,
          44169572.65263158,
          51531168.094736844,
          58892763.53684211,
          66254358.97894737,
          73615954.42105263,
          80977549.8631579,
          88339145.30526316,
          95700740.74736843,
          103062336.18947369,
          110423931.63157895,
          117785527.07368422,
          125147122.51578948,
          132508717.95789474,
          139870313.4
         ],
         "y": [
          0.6453557740089729,
          0.8860808544535781,
          1.1268059348981831,
          1.3675310153427884,
          1.6082560957873935,
          1.8489811762319985,
          2.0897062566766036,
          2.3304313371212086,
          2.5711564175658137,
          2.8118814980104188,
          3.052606578455024,
          3.2933316588996293,
          3.5340567393442344,
          3.7747818197888394,
          4.0155069002334445,
          4.2562319806780495,
          4.496957061122655,
          4.73768214156726,
          4.978407222011865,
          5.21913230245647
         ]
        },
        {
         "line": {
          "color": "red"
         },
         "marker": {
          "size": 3
         },
         "name": "LOWESS, frac=2/3",
         "type": "scatter",
         "x": [
          0,
          0,
          0,
          0,
          0,
          0,
          0,
          0,
          0,
          0,
          0,
          0,
          0,
          0,
          0,
          0,
          0,
          0,
          0,
          0,
          0,
          0,
          0,
          0,
          0,
          0,
          0,
          0,
          0,
          0,
          0,
          0,
          0,
          0,
          0,
          1461461.212,
          1826829.518,
          1980000,
          1980000,
          1980000,
          1980000,
          2511333.305,
          3014358.624,
          3113343.875,
          3960000,
          4352583.168,
          4517025.499,
          4757228.914,
          5589738.316,
          5729203.545,
          6000000,
          6000000,
          6000000,
          6000000,
          6000000,
          6000000,
          6000000,
          6000000,
          6000000,
          6000000,
          6000000,
          6000000,
          6000000,
          6000000,
          6000000,
          6000000,
          6000000,
          6000000,
          6000000,
          6000000,
          6000000,
          6267050.563,
          8321448.767,
          8476155.598,
          8763616.857,
          10039917.9,
          10398473.17,
          10757603.15,
          10788133.37,
          10802915.97,
          11250682.86,
          11729843.7,
          11754293.66,
          11800039.25,
          12000000,
          12000000,
          12000000,
          12000000,
          12000000,
          12000000,
          12000000,
          12000000,
          12000000,
          12000000,
          12000000,
          12000000,
          12000000,
          12000000,
          12000000,
          12000000,
          12661335.88,
          12814988.83,
          12871129.43,
          12997861.26,
          13173383.13,
          13483213.6,
          13583705.84,
          13669507.56,
          14001525.24,
          14175600.9,
          14236561.78,
          14407238.96,
          14830544.17,
          16527841.78,
          16842956.95,
          17517904.65,
          17806305.99,
          18660442.72,
          18887045.6,
          19032649.4,
          19042506.47,
          20034443.09,
          20123472.58,
          21667964.21,
          22174016.6,
          22335992.52,
          23035939.15,
          24643771.59,
          25896190.83,
          25904489.71,
          26295880.34,
          26637453.73,
          31123970.52,
          33730311.54,
          33867819.4,
          36724660.87,
          42340804.98,
          45522076.26,
          49969872.71,
          51369826.15,
          63695608.09,
          78986787.41,
          87863193.96,
          139870313.4
         ],
         "y": [
          0.48008225194565723,
          0.48008225194565723,
          0.48008225194565723,
          0.48008225194565723,
          0.48008225194565723,
          0.48008225194565723,
          0.48008225194565723,
          0.48008225194565723,
          0.48008225194565723,
          0.48008225194565723,
          0.48008225194565723,
          0.48008225194565723,
          0.48008225194565723,
          0.48008225194565723,
          0.48008225194565723,
          0.48008225194565723,
          0.48008225194565723,
          0.48008225194565723,
          0.48008225194565723,
          0.48008225194565723,
          0.48008225194565723,
          0.48008225194565723,
          0.48008225194565723,
          0.48008225194565723,
          0.48008225194565723,
          0.48008225194565723,
          0.48008225194565723,
          0.48008225194565723,
          0.48008225194565723,
          0.48008225194565723,
          0.48008225194565723,
          0.48008225194565723,
          0.48008225194565723,
          0.48008225194565723,
          0.48008225194565723,
          0.5381249821870956,
          0.552467384716581,
          0.5584788716847063,
          0.5584788716847063,
          0.5584788716847063,
          0.5584788716847063,
          0.5793744383534762,
          0.5993059560153411,
          0.6032559542122643,
          0.6375923393102497,
          0.6539449011628827,
          0.6608954308004457,
          0.6711641211898973,
          0.7069826710988173,
          0.7120262098795173,
          0.719349216889296,
          0.719349216889296,
          0.719349216889296,
          0.719349216889296,
          0.719349216889296,
          0.719349216889296,
          0.719349216889296,
          0.719349216889296,
          0.719349216889296,
          0.719349216889296,
          0.719349216889296,
          0.719349216889296,
          0.719349216889296,
          0.719349216889296,
          0.719349216889296,
          0.719349216889296,
          0.719349216889296,
          0.719349216889296,
          0.719349216889296,
          0.719349216889296,
          0.719349216889296,
          0.7361720316119488,
          0.8313592703112304,
          0.8392805637677176,
          0.8542879401476849,
          0.9238536232408515,
          0.9427812137105459,
          0.9612697708274169,
          0.9628251464827718,
          0.9635774855860971,
          0.9862326423508138,
          1.0102207989494734,
          1.0114335881414742,
          1.0137004345297163,
          1.0235804803063902,
          1.0235804803063902,
          1.0235804803063902,
          1.0235804803063902,
          1.0235804803063902,
          1.0235804803063902,
          1.0235804803063902,
          1.0235804803063902,
          1.0235804803063902,
          1.0235804803063902,
          1.0235804803063902,
          1.0235804803063902,
          1.0235804803063902,
          1.0235804803063902,
          1.0235804803063902,
          1.0235804803063902,
          1.056160708665525,
          1.0637771836136123,
          1.0665691853640995,
          1.072891043207428,
          1.0817025011983916,
          1.0977588840941934,
          1.1029967355705574,
          1.1074751853673985,
          1.12452596836207,
          1.1334707662680226,
          1.1366277071734485,
          1.1449539877601786,
          1.1647779730879602,
          1.238059650624268,
          1.2514304937302965,
          1.279275794780888,
          1.2908936186220288,
          1.3239342733218777,
          1.3322036665779369,
          1.337415682285129,
          1.337765924196583,
          1.3717069881877253,
          1.3746413733648812,
          1.4244503702684548,
          1.440867931021963,
          1.446416336532404,
          1.4692423189400896,
          1.5222343018182922,
          1.5647405396924077,
          1.5650245190767127,
          1.5784417534060486,
          1.5898939198274349,
          1.7311845275483835,
          1.809765434339524,
          1.8135824424156581,
          1.907584254452034,
          2.1413197473625405,
          2.2637841773065768,
          2.387055328904455,
          2.4122522543735117,
          2.658315181255933,
          3.0437075990385156,
          3.271560571789219,
          4.458753036529174
         ]
        },
        {
         "line": {
          "color": "blue"
         },
         "marker": {
          "size": 3
         },
         "name": "LOWESS, frac=1/5",
         "type": "scatter",
         "x": [
          0,
          0,
          0,
          0,
          0,
          0,
          0,
          0,
          0,
          0,
          0,
          0,
          0,
          0,
          0,
          0,
          0,
          0,
          0,
          0,
          0,
          0,
          0,
          0,
          0,
          0,
          0,
          0,
          0,
          0,
          0,
          0,
          0,
          0,
          0,
          1461461.212,
          1826829.518,
          1980000,
          1980000,
          1980000,
          1980000,
          2511333.305,
          3014358.624,
          3113343.875,
          3960000,
          4352583.168,
          4517025.499,
          4757228.914,
          5589738.316,
          5729203.545,
          6000000,
          6000000,
          6000000,
          6000000,
          6000000,
          6000000,
          6000000,
          6000000,
          6000000,
          6000000,
          6000000,
          6000000,
          6000000,
          6000000,
          6000000,
          6000000,
          6000000,
          6000000,
          6000000,
          6000000,
          6000000,
          6267050.563,
          8321448.767,
          8476155.598,
          8763616.857,
          10039917.9,
          10398473.17,
          10757603.15,
          10788133.37,
          10802915.97,
          11250682.86,
          11729843.7,
          11754293.66,
          11800039.25,
          12000000,
          12000000,
          12000000,
          12000000,
          12000000,
          12000000,
          12000000,
          12000000,
          12000000,
          12000000,
          12000000,
          12000000,
          12000000,
          12000000,
          12000000,
          12000000,
          12661335.88,
          12814988.83,
          12871129.43,
          12997861.26,
          13173383.13,
          13483213.6,
          13583705.84,
          13669507.56,
          14001525.24,
          14175600.9,
          14236561.78,
          14407238.96,
          14830544.17,
          16527841.78,
          16842956.95,
          17517904.65,
          17806305.99,
          18660442.72,
          18887045.6,
          19032649.4,
          19042506.47,
          20034443.09,
          20123472.58,
          21667964.21,
          22174016.6,
          22335992.52,
          23035939.15,
          24643771.59,
          25896190.83,
          25904489.71,
          26295880.34,
          26637453.73,
          31123970.52,
          33730311.54,
          33867819.4,
          36724660.87,
          42340804.98,
          45522076.26,
          49969872.71,
          51369826.15,
          63695608.09,
          78986787.41,
          87863193.96,
          139870313.4
         ],
         "y": [
          null,
          null,
          null,
          null,
          null,
          null,
          null,
          null,
          null,
          null,
          null,
          null,
          null,
          null,
          null,
          null,
          null,
          null,
          null,
          null,
          null,
          null,
          null,
          null,
          null,
          null,
          null,
          null,
          null,
          null,
          null,
          null,
          null,
          null,
          null,
          null,
          null,
          null,
          null,
          null,
          null,
          null,
          null,
          null,
          null,
          null,
          null,
          null,
          null,
          null,
          null,
          null,
          null,
          null,
          null,
          null,
          null,
          null,
          null,
          null,
          null,
          null,
          null,
          null,
          null,
          null,
          null,
          null,
          null,
          null,
          null,
          null,
          null,
          null,
          null,
          null,
          null,
          null,
          null,
          null,
          null,
          null,
          null,
          null,
          null,
          null,
          null,
          null,
          null,
          null,
          null,
          null,
          null,
          null,
          null,
          null,
          null,
          null,
          null,
          null,
          null,
          null,
          null,
          null,
          null,
          null,
          null,
          null,
          null,
          null,
          null,
          null,
          null,
          null,
          null,
          null,
          null,
          null,
          null,
          null,
          null,
          null,
          null,
          null,
          null,
          null,
          null,
          null,
          null,
          null,
          null,
          null,
          null,
          null,
          null,
          null,
          null,
          null,
          null,
          null,
          null,
          null,
          null,
          null
         ]
        }
       ],
       "layout": {
        "legend": {
         "tracegroupgap": 0
        },
        "margin": {
         "t": 60
        },
        "plot_bgcolor": "white",
        "template": {
         "data": {
          "bar": [
           {
            "error_x": {
             "color": "#2a3f5f"
            },
            "error_y": {
             "color": "#2a3f5f"
            },
            "marker": {
             "line": {
              "color": "#E5ECF6",
              "width": 0.5
             },
             "pattern": {
              "fillmode": "overlay",
              "size": 10,
              "solidity": 0.2
             }
            },
            "type": "bar"
           }
          ],
          "barpolar": [
           {
            "marker": {
             "line": {
              "color": "#E5ECF6",
              "width": 0.5
             },
             "pattern": {
              "fillmode": "overlay",
              "size": 10,
              "solidity": 0.2
             }
            },
            "type": "barpolar"
           }
          ],
          "carpet": [
           {
            "aaxis": {
             "endlinecolor": "#2a3f5f",
             "gridcolor": "white",
             "linecolor": "white",
             "minorgridcolor": "white",
             "startlinecolor": "#2a3f5f"
            },
            "baxis": {
             "endlinecolor": "#2a3f5f",
             "gridcolor": "white",
             "linecolor": "white",
             "minorgridcolor": "white",
             "startlinecolor": "#2a3f5f"
            },
            "type": "carpet"
           }
          ],
          "choropleth": [
           {
            "colorbar": {
             "outlinewidth": 0,
             "ticks": ""
            },
            "type": "choropleth"
           }
          ],
          "contour": [
           {
            "colorbar": {
             "outlinewidth": 0,
             "ticks": ""
            },
            "colorscale": [
             [
              0,
              "#0d0887"
             ],
             [
              0.1111111111111111,
              "#46039f"
             ],
             [
              0.2222222222222222,
              "#7201a8"
             ],
             [
              0.3333333333333333,
              "#9c179e"
             ],
             [
              0.4444444444444444,
              "#bd3786"
             ],
             [
              0.5555555555555556,
              "#d8576b"
             ],
             [
              0.6666666666666666,
              "#ed7953"
             ],
             [
              0.7777777777777778,
              "#fb9f3a"
             ],
             [
              0.8888888888888888,
              "#fdca26"
             ],
             [
              1,
              "#f0f921"
             ]
            ],
            "type": "contour"
           }
          ],
          "contourcarpet": [
           {
            "colorbar": {
             "outlinewidth": 0,
             "ticks": ""
            },
            "type": "contourcarpet"
           }
          ],
          "heatmap": [
           {
            "colorbar": {
             "outlinewidth": 0,
             "ticks": ""
            },
            "colorscale": [
             [
              0,
              "#0d0887"
             ],
             [
              0.1111111111111111,
              "#46039f"
             ],
             [
              0.2222222222222222,
              "#7201a8"
             ],
             [
              0.3333333333333333,
              "#9c179e"
             ],
             [
              0.4444444444444444,
              "#bd3786"
             ],
             [
              0.5555555555555556,
              "#d8576b"
             ],
             [
              0.6666666666666666,
              "#ed7953"
             ],
             [
              0.7777777777777778,
              "#fb9f3a"
             ],
             [
              0.8888888888888888,
              "#fdca26"
             ],
             [
              1,
              "#f0f921"
             ]
            ],
            "type": "heatmap"
           }
          ],
          "heatmapgl": [
           {
            "colorbar": {
             "outlinewidth": 0,
             "ticks": ""
            },
            "colorscale": [
             [
              0,
              "#0d0887"
             ],
             [
              0.1111111111111111,
              "#46039f"
             ],
             [
              0.2222222222222222,
              "#7201a8"
             ],
             [
              0.3333333333333333,
              "#9c179e"
             ],
             [
              0.4444444444444444,
              "#bd3786"
             ],
             [
              0.5555555555555556,
              "#d8576b"
             ],
             [
              0.6666666666666666,
              "#ed7953"
             ],
             [
              0.7777777777777778,
              "#fb9f3a"
             ],
             [
              0.8888888888888888,
              "#fdca26"
             ],
             [
              1,
              "#f0f921"
             ]
            ],
            "type": "heatmapgl"
           }
          ],
          "histogram": [
           {
            "marker": {
             "pattern": {
              "fillmode": "overlay",
              "size": 10,
              "solidity": 0.2
             }
            },
            "type": "histogram"
           }
          ],
          "histogram2d": [
           {
            "colorbar": {
             "outlinewidth": 0,
             "ticks": ""
            },
            "colorscale": [
             [
              0,
              "#0d0887"
             ],
             [
              0.1111111111111111,
              "#46039f"
             ],
             [
              0.2222222222222222,
              "#7201a8"
             ],
             [
              0.3333333333333333,
              "#9c179e"
             ],
             [
              0.4444444444444444,
              "#bd3786"
             ],
             [
              0.5555555555555556,
              "#d8576b"
             ],
             [
              0.6666666666666666,
              "#ed7953"
             ],
             [
              0.7777777777777778,
              "#fb9f3a"
             ],
             [
              0.8888888888888888,
              "#fdca26"
             ],
             [
              1,
              "#f0f921"
             ]
            ],
            "type": "histogram2d"
           }
          ],
          "histogram2dcontour": [
           {
            "colorbar": {
             "outlinewidth": 0,
             "ticks": ""
            },
            "colorscale": [
             [
              0,
              "#0d0887"
             ],
             [
              0.1111111111111111,
              "#46039f"
             ],
             [
              0.2222222222222222,
              "#7201a8"
             ],
             [
              0.3333333333333333,
              "#9c179e"
             ],
             [
              0.4444444444444444,
              "#bd3786"
             ],
             [
              0.5555555555555556,
              "#d8576b"
             ],
             [
              0.6666666666666666,
              "#ed7953"
             ],
             [
              0.7777777777777778,
              "#fb9f3a"
             ],
             [
              0.8888888888888888,
              "#fdca26"
             ],
             [
              1,
              "#f0f921"
             ]
            ],
            "type": "histogram2dcontour"
           }
          ],
          "mesh3d": [
           {
            "colorbar": {
             "outlinewidth": 0,
             "ticks": ""
            },
            "type": "mesh3d"
           }
          ],
          "parcoords": [
           {
            "line": {
             "colorbar": {
              "outlinewidth": 0,
              "ticks": ""
             }
            },
            "type": "parcoords"
           }
          ],
          "pie": [
           {
            "automargin": true,
            "type": "pie"
           }
          ],
          "scatter": [
           {
            "fillpattern": {
             "fillmode": "overlay",
             "size": 10,
             "solidity": 0.2
            },
            "type": "scatter"
           }
          ],
          "scatter3d": [
           {
            "line": {
             "colorbar": {
              "outlinewidth": 0,
              "ticks": ""
             }
            },
            "marker": {
             "colorbar": {
              "outlinewidth": 0,
              "ticks": ""
             }
            },
            "type": "scatter3d"
           }
          ],
          "scattercarpet": [
           {
            "marker": {
             "colorbar": {
              "outlinewidth": 0,
              "ticks": ""
             }
            },
            "type": "scattercarpet"
           }
          ],
          "scattergeo": [
           {
            "marker": {
             "colorbar": {
              "outlinewidth": 0,
              "ticks": ""
             }
            },
            "type": "scattergeo"
           }
          ],
          "scattergl": [
           {
            "marker": {
             "colorbar": {
              "outlinewidth": 0,
              "ticks": ""
             }
            },
            "type": "scattergl"
           }
          ],
          "scattermapbox": [
           {
            "marker": {
             "colorbar": {
              "outlinewidth": 0,
              "ticks": ""
             }
            },
            "type": "scattermapbox"
           }
          ],
          "scatterpolar": [
           {
            "marker": {
             "colorbar": {
              "outlinewidth": 0,
              "ticks": ""
             }
            },
            "type": "scatterpolar"
           }
          ],
          "scatterpolargl": [
           {
            "marker": {
             "colorbar": {
              "outlinewidth": 0,
              "ticks": ""
             }
            },
            "type": "scatterpolargl"
           }
          ],
          "scatterternary": [
           {
            "marker": {
             "colorbar": {
              "outlinewidth": 0,
              "ticks": ""
             }
            },
            "type": "scatterternary"
           }
          ],
          "surface": [
           {
            "colorbar": {
             "outlinewidth": 0,
             "ticks": ""
            },
            "colorscale": [
             [
              0,
              "#0d0887"
             ],
             [
              0.1111111111111111,
              "#46039f"
             ],
             [
              0.2222222222222222,
              "#7201a8"
             ],
             [
              0.3333333333333333,
              "#9c179e"
             ],
             [
              0.4444444444444444,
              "#bd3786"
             ],
             [
              0.5555555555555556,
              "#d8576b"
             ],
             [
              0.6666666666666666,
              "#ed7953"
             ],
             [
              0.7777777777777778,
              "#fb9f3a"
             ],
             [
              0.8888888888888888,
              "#fdca26"
             ],
             [
              1,
              "#f0f921"
             ]
            ],
            "type": "surface"
           }
          ],
          "table": [
           {
            "cells": {
             "fill": {
              "color": "#EBF0F8"
             },
             "line": {
              "color": "white"
             }
            },
            "header": {
             "fill": {
              "color": "#C8D4E3"
             },
             "line": {
              "color": "white"
             }
            },
            "type": "table"
           }
          ]
         },
         "layout": {
          "annotationdefaults": {
           "arrowcolor": "#2a3f5f",
           "arrowhead": 0,
           "arrowwidth": 1
          },
          "autotypenumbers": "strict",
          "coloraxis": {
           "colorbar": {
            "outlinewidth": 0,
            "ticks": ""
           }
          },
          "colorscale": {
           "diverging": [
            [
             0,
             "#8e0152"
            ],
            [
             0.1,
             "#c51b7d"
            ],
            [
             0.2,
             "#de77ae"
            ],
            [
             0.3,
             "#f1b6da"
            ],
            [
             0.4,
             "#fde0ef"
            ],
            [
             0.5,
             "#f7f7f7"
            ],
            [
             0.6,
             "#e6f5d0"
            ],
            [
             0.7,
             "#b8e186"
            ],
            [
             0.8,
             "#7fbc41"
            ],
            [
             0.9,
             "#4d9221"
            ],
            [
             1,
             "#276419"
            ]
           ],
           "sequential": [
            [
             0,
             "#0d0887"
            ],
            [
             0.1111111111111111,
             "#46039f"
            ],
            [
             0.2222222222222222,
             "#7201a8"
            ],
            [
             0.3333333333333333,
             "#9c179e"
            ],
            [
             0.4444444444444444,
             "#bd3786"
            ],
            [
             0.5555555555555556,
             "#d8576b"
            ],
            [
             0.6666666666666666,
             "#ed7953"
            ],
            [
             0.7777777777777778,
             "#fb9f3a"
            ],
            [
             0.8888888888888888,
             "#fdca26"
            ],
            [
             1,
             "#f0f921"
            ]
           ],
           "sequentialminus": [
            [
             0,
             "#0d0887"
            ],
            [
             0.1111111111111111,
             "#46039f"
            ],
            [
             0.2222222222222222,
             "#7201a8"
            ],
            [
             0.3333333333333333,
             "#9c179e"
            ],
            [
             0.4444444444444444,
             "#bd3786"
            ],
            [
             0.5555555555555556,
             "#d8576b"
            ],
            [
             0.6666666666666666,
             "#ed7953"
            ],
            [
             0.7777777777777778,
             "#fb9f3a"
            ],
            [
             0.8888888888888888,
             "#fdca26"
            ],
            [
             1,
             "#f0f921"
            ]
           ]
          },
          "colorway": [
           "#636efa",
           "#EF553B",
           "#00cc96",
           "#ab63fa",
           "#FFA15A",
           "#19d3f3",
           "#FF6692",
           "#B6E880",
           "#FF97FF",
           "#FECB52"
          ],
          "font": {
           "color": "#2a3f5f"
          },
          "geo": {
           "bgcolor": "white",
           "lakecolor": "white",
           "landcolor": "#E5ECF6",
           "showlakes": true,
           "showland": true,
           "subunitcolor": "white"
          },
          "hoverlabel": {
           "align": "left"
          },
          "hovermode": "closest",
          "mapbox": {
           "style": "light"
          },
          "paper_bgcolor": "white",
          "plot_bgcolor": "#E5ECF6",
          "polar": {
           "angularaxis": {
            "gridcolor": "white",
            "linecolor": "white",
            "ticks": ""
           },
           "bgcolor": "#E5ECF6",
           "radialaxis": {
            "gridcolor": "white",
            "linecolor": "white",
            "ticks": ""
           }
          },
          "scene": {
           "xaxis": {
            "backgroundcolor": "#E5ECF6",
            "gridcolor": "white",
            "gridwidth": 2,
            "linecolor": "white",
            "showbackground": true,
            "ticks": "",
            "zerolinecolor": "white"
           },
           "yaxis": {
            "backgroundcolor": "#E5ECF6",
            "gridcolor": "white",
            "gridwidth": 2,
            "linecolor": "white",
            "showbackground": true,
            "ticks": "",
            "zerolinecolor": "white"
           },
           "zaxis": {
            "backgroundcolor": "#E5ECF6",
            "gridcolor": "white",
            "gridwidth": 2,
            "linecolor": "white",
            "showbackground": true,
            "ticks": "",
            "zerolinecolor": "white"
           }
          },
          "shapedefaults": {
           "line": {
            "color": "#2a3f5f"
           }
          },
          "ternary": {
           "aaxis": {
            "gridcolor": "white",
            "linecolor": "white",
            "ticks": ""
           },
           "baxis": {
            "gridcolor": "white",
            "linecolor": "white",
            "ticks": ""
           },
           "bgcolor": "#E5ECF6",
           "caxis": {
            "gridcolor": "white",
            "linecolor": "white",
            "ticks": ""
           }
          },
          "title": {
           "x": 0.05
          },
          "xaxis": {
           "automargin": true,
           "gridcolor": "white",
           "linecolor": "white",
           "ticks": "",
           "title": {
            "standoff": 15
           },
           "zerolinecolor": "white",
           "zerolinewidth": 2
          },
          "yaxis": {
           "automargin": true,
           "gridcolor": "white",
           "linecolor": "white",
           "ticks": "",
           "title": {
            "standoff": 15
           },
           "zerolinecolor": "white",
           "zerolinewidth": 2
          }
         }
        },
        "title": {
         "font": {
          "color": "black"
         },
         "text": "Score Card Vs. Incentive Scatter Plot"
        },
        "xaxis": {
         "anchor": "y",
         "domain": [
          0,
          1
         ],
         "gridcolor": "lightgrey",
         "gridwidth": 1,
         "linecolor": "black",
         "linewidth": 1,
         "showgrid": true,
         "showline": true,
         "title": {
          "text": "Q2_Incentive"
         },
         "zeroline": true,
         "zerolinecolor": "lightgrey",
         "zerolinewidth": 1
        },
        "yaxis": {
         "anchor": "x",
         "domain": [
          0,
          1
         ],
         "gridcolor": "lightgrey",
         "gridwidth": 1,
         "linecolor": "black",
         "linewidth": 1,
         "showgrid": true,
         "showline": true,
         "title": {
          "text": "Q2 20 SC "
         },
         "zeroline": true,
         "zerolinecolor": "lightgrey",
         "zerolinewidth": 1
        }
       }
      },
      "text/html": [
       "<div>                            <div id=\"cf3c394e-06a3-43ee-8137-a0ea6f3f3d21\" class=\"plotly-graph-div\" style=\"height:525px; width:100%;\"></div>            <script type=\"text/javascript\">                require([\"plotly\"], function(Plotly) {                    window.PLOTLYENV=window.PLOTLYENV || {};                                    if (document.getElementById(\"cf3c394e-06a3-43ee-8137-a0ea6f3f3d21\")) {                    Plotly.newPlot(                        \"cf3c394e-06a3-43ee-8137-a0ea6f3f3d21\",                        [{\"hovertemplate\":\"Q2_Incentive=%{x}<br>Q2 20 SC =%{y}<extra></extra>\",\"legendgroup\":\"\",\"marker\":{\"color\":\"black\",\"opacity\":0.8,\"symbol\":\"circle\",\"size\":3},\"mode\":\"markers\",\"name\":\"\",\"orientation\":\"v\",\"showlegend\":false,\"x\":[87863193.96,78986787.41,21667964.21,139870313.4,14407238.96,23035939.15,42340804.98,22174016.6,45522076.26,36724660.87,31123970.52,4352583.168,17517904.65,6000000.0,33730311.54,22335992.52,24643771.59,49969872.71,13583705.84,16842956.95,26295880.34,12000000.0,11800039.25,11754293.66,12661335.88,12871129.43,63695608.09,0.0,20123472.58,12997861.26,51369826.15,26637453.73,12000000.0,0.0,12000000.0,4757228.914,6000000.0,13483213.6,20034443.09,10039917.9,12000000.0,17806305.99,3113343.875,6000000.0,19032649.4,19042506.47,33867819.4,6267050.563,12000000.0,3014358.624,16527841.78,12000000.0,6000000.0,1826829.518,10757603.15,12000000.0,12000000.0,14830544.17,12814988.83,0.0,14001525.24,10788133.37,14236561.78,12000000.0,12000000.0,12000000.0,10802915.97,12000000.0,6000000.0,14175600.9,12000000.0,6000000.0,11729843.7,6000000.0,25896190.83,25904489.71,6000000.0,6000000.0,13173383.13,6000000.0,12000000.0,0.0,5729203.545,0.0,1980000.0,8763616.857,1980000.0,0.0,0.0,4517025.499,0.0,5589738.316,12000000.0,0.0,0.0,13669507.56,0.0,10398473.17,11250682.86,6000000.0,8476155.598,0.0,0.0,6000000.0,6000000.0,0.0,0.0,0.0,0.0,0.0,18887045.6,6000000.0,0.0,6000000.0,0.0,6000000.0,0.0,0.0,0.0,0.0,0.0,0.0,6000000.0,0.0,1980000.0,18660442.72,0.0,6000000.0,6000000.0,6000000.0,1980000.0,6000000.0,0.0,0.0,3960000.0,0.0,12000000.0,0.0,0.0,0.0,8321448.767,1461461.212,0.0,2511333.305],\"xaxis\":\"x\",\"y\":[2.46,3.255,1.7825,1.7875,1.9825,1.84,3.39,1.4375,9.38,1.8625,1.58,1.39,1.455,0.87,1.655,1.145,1.805,2.255,1.49,1.4575,1.535,0.555,1.6025,1.4025,1.195,1.3475,3.2925,0.7875,1.5675,0.9675,3.92,1.8725,1.0075,0.8,0.935,0.8425,0.5475,2.16,3.14,1.2275,0.735,1.09,0.7625,0.69,2.2425,1.405,1.875,1.055,1.035,0.9575,1.3025,0.955,0.805,0.9475,1.45,0.73,0.5225,1.135,1.435,0.555,1.2675,1.295,1.3725,0.9975,0.455,1.0875,0.84,0.695,0.665,1.1225,0.59,0.68,1.04,0.76,1.15,1.425,0.74,0.7375,1.245,0.57,1.09,0.7675,0.95,0.6525,0.5875,1.3825,0.43,0.5225,0.475,0.96,0.565,1.01,0.0425,0.3125,0.465,1.0,0.4375,0.8075,0.9875,0.5575,0.9525,0.4525,0.3025,0.605,0.435,0.66,0.45,0.7625,0.5225,0.29,0.79,0.6275,0.4475,0.2075,0.4375,0.6875,0.2075,0.1,0.2275,0.415,0.3725,0.2775,0.44,0.7275,0.6125,0.9525,0.4025,0.4225,0.285,0.2,0.5225,0.1525,0.4425,0.4175,0.8425,0.5625,0.6075,0.4675,0.3425,0.1325,0.93,0.906666667,0.205,0.695],\"yaxis\":\"y\",\"type\":\"scatter\"},{\"line\":{\"color\":\"limegreen\"},\"name\":\"Linear Regression\",\"x\":[0.0,7361595.4421052635,14723190.884210527,22084786.32631579,29446381.768421054,36807977.21052632,44169572.65263158,51531168.094736844,58892763.53684211,66254358.97894737,73615954.42105263,80977549.8631579,88339145.30526316,95700740.74736843,103062336.18947369,110423931.63157895,117785527.07368422,125147122.51578948,132508717.95789474,139870313.4],\"y\":[0.6453557740089729,0.8860808544535781,1.1268059348981831,1.3675310153427884,1.6082560957873935,1.8489811762319985,2.0897062566766036,2.3304313371212086,2.5711564175658137,2.8118814980104188,3.052606578455024,3.2933316588996293,3.5340567393442344,3.7747818197888394,4.0155069002334445,4.2562319806780495,4.496957061122655,4.73768214156726,4.978407222011865,5.21913230245647],\"type\":\"scatter\",\"marker\":{\"size\":3}},{\"line\":{\"color\":\"red\"},\"name\":\"LOWESS, frac=2/3\",\"x\":[0.0,0.0,0.0,0.0,0.0,0.0,0.0,0.0,0.0,0.0,0.0,0.0,0.0,0.0,0.0,0.0,0.0,0.0,0.0,0.0,0.0,0.0,0.0,0.0,0.0,0.0,0.0,0.0,0.0,0.0,0.0,0.0,0.0,0.0,0.0,1461461.212,1826829.518,1980000.0,1980000.0,1980000.0,1980000.0,2511333.305,3014358.624,3113343.875,3960000.0,4352583.168,4517025.499,4757228.914,5589738.316,5729203.545,6000000.0,6000000.0,6000000.0,6000000.0,6000000.0,6000000.0,6000000.0,6000000.0,6000000.0,6000000.0,6000000.0,6000000.0,6000000.0,6000000.0,6000000.0,6000000.0,6000000.0,6000000.0,6000000.0,6000000.0,6000000.0,6267050.563,8321448.767,8476155.598,8763616.857,10039917.9,10398473.17,10757603.15,10788133.37,10802915.97,11250682.86,11729843.7,11754293.66,11800039.25,12000000.0,12000000.0,12000000.0,12000000.0,12000000.0,12000000.0,12000000.0,12000000.0,12000000.0,12000000.0,12000000.0,12000000.0,12000000.0,12000000.0,12000000.0,12000000.0,12661335.88,12814988.83,12871129.43,12997861.26,13173383.13,13483213.6,13583705.84,13669507.56,14001525.24,14175600.9,14236561.78,14407238.96,14830544.17,16527841.78,16842956.95,17517904.65,17806305.99,18660442.72,18887045.6,19032649.4,19042506.47,20034443.09,20123472.58,21667964.21,22174016.6,22335992.52,23035939.15,24643771.59,25896190.83,25904489.71,26295880.34,26637453.73,31123970.52,33730311.54,33867819.4,36724660.87,42340804.98,45522076.26,49969872.71,51369826.15,63695608.09,78986787.41,87863193.96,139870313.4],\"y\":[0.48008225194565723,0.48008225194565723,0.48008225194565723,0.48008225194565723,0.48008225194565723,0.48008225194565723,0.48008225194565723,0.48008225194565723,0.48008225194565723,0.48008225194565723,0.48008225194565723,0.48008225194565723,0.48008225194565723,0.48008225194565723,0.48008225194565723,0.48008225194565723,0.48008225194565723,0.48008225194565723,0.48008225194565723,0.48008225194565723,0.48008225194565723,0.48008225194565723,0.48008225194565723,0.48008225194565723,0.48008225194565723,0.48008225194565723,0.48008225194565723,0.48008225194565723,0.48008225194565723,0.48008225194565723,0.48008225194565723,0.48008225194565723,0.48008225194565723,0.48008225194565723,0.48008225194565723,0.5381249821870956,0.552467384716581,0.5584788716847063,0.5584788716847063,0.5584788716847063,0.5584788716847063,0.5793744383534762,0.5993059560153411,0.6032559542122643,0.6375923393102497,0.6539449011628827,0.6608954308004457,0.6711641211898973,0.7069826710988173,0.7120262098795173,0.719349216889296,0.719349216889296,0.719349216889296,0.719349216889296,0.719349216889296,0.719349216889296,0.719349216889296,0.719349216889296,0.719349216889296,0.719349216889296,0.719349216889296,0.719349216889296,0.719349216889296,0.719349216889296,0.719349216889296,0.719349216889296,0.719349216889296,0.719349216889296,0.719349216889296,0.719349216889296,0.719349216889296,0.7361720316119488,0.8313592703112304,0.8392805637677176,0.8542879401476849,0.9238536232408515,0.9427812137105459,0.9612697708274169,0.9628251464827718,0.9635774855860971,0.9862326423508138,1.0102207989494734,1.0114335881414742,1.0137004345297163,1.0235804803063902,1.0235804803063902,1.0235804803063902,1.0235804803063902,1.0235804803063902,1.0235804803063902,1.0235804803063902,1.0235804803063902,1.0235804803063902,1.0235804803063902,1.0235804803063902,1.0235804803063902,1.0235804803063902,1.0235804803063902,1.0235804803063902,1.0235804803063902,1.056160708665525,1.0637771836136123,1.0665691853640995,1.072891043207428,1.0817025011983916,1.0977588840941934,1.1029967355705574,1.1074751853673985,1.12452596836207,1.1334707662680226,1.1366277071734485,1.1449539877601786,1.1647779730879602,1.238059650624268,1.2514304937302965,1.279275794780888,1.2908936186220288,1.3239342733218777,1.3322036665779369,1.337415682285129,1.337765924196583,1.3717069881877253,1.3746413733648812,1.4244503702684548,1.440867931021963,1.446416336532404,1.4692423189400896,1.5222343018182922,1.5647405396924077,1.5650245190767127,1.5784417534060486,1.5898939198274349,1.7311845275483835,1.809765434339524,1.8135824424156581,1.907584254452034,2.1413197473625405,2.2637841773065768,2.387055328904455,2.4122522543735117,2.658315181255933,3.0437075990385156,3.271560571789219,4.458753036529174],\"type\":\"scatter\",\"marker\":{\"size\":3}},{\"line\":{\"color\":\"blue\"},\"name\":\"LOWESS, frac=1/5\",\"x\":[0.0,0.0,0.0,0.0,0.0,0.0,0.0,0.0,0.0,0.0,0.0,0.0,0.0,0.0,0.0,0.0,0.0,0.0,0.0,0.0,0.0,0.0,0.0,0.0,0.0,0.0,0.0,0.0,0.0,0.0,0.0,0.0,0.0,0.0,0.0,1461461.212,1826829.518,1980000.0,1980000.0,1980000.0,1980000.0,2511333.305,3014358.624,3113343.875,3960000.0,4352583.168,4517025.499,4757228.914,5589738.316,5729203.545,6000000.0,6000000.0,6000000.0,6000000.0,6000000.0,6000000.0,6000000.0,6000000.0,6000000.0,6000000.0,6000000.0,6000000.0,6000000.0,6000000.0,6000000.0,6000000.0,6000000.0,6000000.0,6000000.0,6000000.0,6000000.0,6267050.563,8321448.767,8476155.598,8763616.857,10039917.9,10398473.17,10757603.15,10788133.37,10802915.97,11250682.86,11729843.7,11754293.66,11800039.25,12000000.0,12000000.0,12000000.0,12000000.0,12000000.0,12000000.0,12000000.0,12000000.0,12000000.0,12000000.0,12000000.0,12000000.0,12000000.0,12000000.0,12000000.0,12000000.0,12661335.88,12814988.83,12871129.43,12997861.26,13173383.13,13483213.6,13583705.84,13669507.56,14001525.24,14175600.9,14236561.78,14407238.96,14830544.17,16527841.78,16842956.95,17517904.65,17806305.99,18660442.72,18887045.6,19032649.4,19042506.47,20034443.09,20123472.58,21667964.21,22174016.6,22335992.52,23035939.15,24643771.59,25896190.83,25904489.71,26295880.34,26637453.73,31123970.52,33730311.54,33867819.4,36724660.87,42340804.98,45522076.26,49969872.71,51369826.15,63695608.09,78986787.41,87863193.96,139870313.4],\"y\":[null,null,null,null,null,null,null,null,null,null,null,null,null,null,null,null,null,null,null,null,null,null,null,null,null,null,null,null,null,null,null,null,null,null,null,null,null,null,null,null,null,null,null,null,null,null,null,null,null,null,null,null,null,null,null,null,null,null,null,null,null,null,null,null,null,null,null,null,null,null,null,null,null,null,null,null,null,null,null,null,null,null,null,null,null,null,null,null,null,null,null,null,null,null,null,null,null,null,null,null,null,null,null,null,null,null,null,null,null,null,null,null,null,null,null,null,null,null,null,null,null,null,null,null,null,null,null,null,null,null,null,null,null,null,null,null,null,null,null,null,null,null,null,null],\"type\":\"scatter\",\"marker\":{\"size\":3}}],                        {\"template\":{\"data\":{\"histogram2dcontour\":[{\"type\":\"histogram2dcontour\",\"colorbar\":{\"outlinewidth\":0,\"ticks\":\"\"},\"colorscale\":[[0.0,\"#0d0887\"],[0.1111111111111111,\"#46039f\"],[0.2222222222222222,\"#7201a8\"],[0.3333333333333333,\"#9c179e\"],[0.4444444444444444,\"#bd3786\"],[0.5555555555555556,\"#d8576b\"],[0.6666666666666666,\"#ed7953\"],[0.7777777777777778,\"#fb9f3a\"],[0.8888888888888888,\"#fdca26\"],[1.0,\"#f0f921\"]]}],\"choropleth\":[{\"type\":\"choropleth\",\"colorbar\":{\"outlinewidth\":0,\"ticks\":\"\"}}],\"histogram2d\":[{\"type\":\"histogram2d\",\"colorbar\":{\"outlinewidth\":0,\"ticks\":\"\"},\"colorscale\":[[0.0,\"#0d0887\"],[0.1111111111111111,\"#46039f\"],[0.2222222222222222,\"#7201a8\"],[0.3333333333333333,\"#9c179e\"],[0.4444444444444444,\"#bd3786\"],[0.5555555555555556,\"#d8576b\"],[0.6666666666666666,\"#ed7953\"],[0.7777777777777778,\"#fb9f3a\"],[0.8888888888888888,\"#fdca26\"],[1.0,\"#f0f921\"]]}],\"heatmap\":[{\"type\":\"heatmap\",\"colorbar\":{\"outlinewidth\":0,\"ticks\":\"\"},\"colorscale\":[[0.0,\"#0d0887\"],[0.1111111111111111,\"#46039f\"],[0.2222222222222222,\"#7201a8\"],[0.3333333333333333,\"#9c179e\"],[0.4444444444444444,\"#bd3786\"],[0.5555555555555556,\"#d8576b\"],[0.6666666666666666,\"#ed7953\"],[0.7777777777777778,\"#fb9f3a\"],[0.8888888888888888,\"#fdca26\"],[1.0,\"#f0f921\"]]}],\"heatmapgl\":[{\"type\":\"heatmapgl\",\"colorbar\":{\"outlinewidth\":0,\"ticks\":\"\"},\"colorscale\":[[0.0,\"#0d0887\"],[0.1111111111111111,\"#46039f\"],[0.2222222222222222,\"#7201a8\"],[0.3333333333333333,\"#9c179e\"],[0.4444444444444444,\"#bd3786\"],[0.5555555555555556,\"#d8576b\"],[0.6666666666666666,\"#ed7953\"],[0.7777777777777778,\"#fb9f3a\"],[0.8888888888888888,\"#fdca26\"],[1.0,\"#f0f921\"]]}],\"contourcarpet\":[{\"type\":\"contourcarpet\",\"colorbar\":{\"outlinewidth\":0,\"ticks\":\"\"}}],\"contour\":[{\"type\":\"contour\",\"colorbar\":{\"outlinewidth\":0,\"ticks\":\"\"},\"colorscale\":[[0.0,\"#0d0887\"],[0.1111111111111111,\"#46039f\"],[0.2222222222222222,\"#7201a8\"],[0.3333333333333333,\"#9c179e\"],[0.4444444444444444,\"#bd3786\"],[0.5555555555555556,\"#d8576b\"],[0.6666666666666666,\"#ed7953\"],[0.7777777777777778,\"#fb9f3a\"],[0.8888888888888888,\"#fdca26\"],[1.0,\"#f0f921\"]]}],\"surface\":[{\"type\":\"surface\",\"colorbar\":{\"outlinewidth\":0,\"ticks\":\"\"},\"colorscale\":[[0.0,\"#0d0887\"],[0.1111111111111111,\"#46039f\"],[0.2222222222222222,\"#7201a8\"],[0.3333333333333333,\"#9c179e\"],[0.4444444444444444,\"#bd3786\"],[0.5555555555555556,\"#d8576b\"],[0.6666666666666666,\"#ed7953\"],[0.7777777777777778,\"#fb9f3a\"],[0.8888888888888888,\"#fdca26\"],[1.0,\"#f0f921\"]]}],\"mesh3d\":[{\"type\":\"mesh3d\",\"colorbar\":{\"outlinewidth\":0,\"ticks\":\"\"}}],\"scatter\":[{\"fillpattern\":{\"fillmode\":\"overlay\",\"size\":10,\"solidity\":0.2},\"type\":\"scatter\"}],\"parcoords\":[{\"type\":\"parcoords\",\"line\":{\"colorbar\":{\"outlinewidth\":0,\"ticks\":\"\"}}}],\"scatterpolargl\":[{\"type\":\"scatterpolargl\",\"marker\":{\"colorbar\":{\"outlinewidth\":0,\"ticks\":\"\"}}}],\"bar\":[{\"error_x\":{\"color\":\"#2a3f5f\"},\"error_y\":{\"color\":\"#2a3f5f\"},\"marker\":{\"line\":{\"color\":\"#E5ECF6\",\"width\":0.5},\"pattern\":{\"fillmode\":\"overlay\",\"size\":10,\"solidity\":0.2}},\"type\":\"bar\"}],\"scattergeo\":[{\"type\":\"scattergeo\",\"marker\":{\"colorbar\":{\"outlinewidth\":0,\"ticks\":\"\"}}}],\"scatterpolar\":[{\"type\":\"scatterpolar\",\"marker\":{\"colorbar\":{\"outlinewidth\":0,\"ticks\":\"\"}}}],\"histogram\":[{\"marker\":{\"pattern\":{\"fillmode\":\"overlay\",\"size\":10,\"solidity\":0.2}},\"type\":\"histogram\"}],\"scattergl\":[{\"type\":\"scattergl\",\"marker\":{\"colorbar\":{\"outlinewidth\":0,\"ticks\":\"\"}}}],\"scatter3d\":[{\"type\":\"scatter3d\",\"line\":{\"colorbar\":{\"outlinewidth\":0,\"ticks\":\"\"}},\"marker\":{\"colorbar\":{\"outlinewidth\":0,\"ticks\":\"\"}}}],\"scattermapbox\":[{\"type\":\"scattermapbox\",\"marker\":{\"colorbar\":{\"outlinewidth\":0,\"ticks\":\"\"}}}],\"scatterternary\":[{\"type\":\"scatterternary\",\"marker\":{\"colorbar\":{\"outlinewidth\":0,\"ticks\":\"\"}}}],\"scattercarpet\":[{\"type\":\"scattercarpet\",\"marker\":{\"colorbar\":{\"outlinewidth\":0,\"ticks\":\"\"}}}],\"carpet\":[{\"aaxis\":{\"endlinecolor\":\"#2a3f5f\",\"gridcolor\":\"white\",\"linecolor\":\"white\",\"minorgridcolor\":\"white\",\"startlinecolor\":\"#2a3f5f\"},\"baxis\":{\"endlinecolor\":\"#2a3f5f\",\"gridcolor\":\"white\",\"linecolor\":\"white\",\"minorgridcolor\":\"white\",\"startlinecolor\":\"#2a3f5f\"},\"type\":\"carpet\"}],\"table\":[{\"cells\":{\"fill\":{\"color\":\"#EBF0F8\"},\"line\":{\"color\":\"white\"}},\"header\":{\"fill\":{\"color\":\"#C8D4E3\"},\"line\":{\"color\":\"white\"}},\"type\":\"table\"}],\"barpolar\":[{\"marker\":{\"line\":{\"color\":\"#E5ECF6\",\"width\":0.5},\"pattern\":{\"fillmode\":\"overlay\",\"size\":10,\"solidity\":0.2}},\"type\":\"barpolar\"}],\"pie\":[{\"automargin\":true,\"type\":\"pie\"}]},\"layout\":{\"autotypenumbers\":\"strict\",\"colorway\":[\"#636efa\",\"#EF553B\",\"#00cc96\",\"#ab63fa\",\"#FFA15A\",\"#19d3f3\",\"#FF6692\",\"#B6E880\",\"#FF97FF\",\"#FECB52\"],\"font\":{\"color\":\"#2a3f5f\"},\"hovermode\":\"closest\",\"hoverlabel\":{\"align\":\"left\"},\"paper_bgcolor\":\"white\",\"plot_bgcolor\":\"#E5ECF6\",\"polar\":{\"bgcolor\":\"#E5ECF6\",\"angularaxis\":{\"gridcolor\":\"white\",\"linecolor\":\"white\",\"ticks\":\"\"},\"radialaxis\":{\"gridcolor\":\"white\",\"linecolor\":\"white\",\"ticks\":\"\"}},\"ternary\":{\"bgcolor\":\"#E5ECF6\",\"aaxis\":{\"gridcolor\":\"white\",\"linecolor\":\"white\",\"ticks\":\"\"},\"baxis\":{\"gridcolor\":\"white\",\"linecolor\":\"white\",\"ticks\":\"\"},\"caxis\":{\"gridcolor\":\"white\",\"linecolor\":\"white\",\"ticks\":\"\"}},\"coloraxis\":{\"colorbar\":{\"outlinewidth\":0,\"ticks\":\"\"}},\"colorscale\":{\"sequential\":[[0.0,\"#0d0887\"],[0.1111111111111111,\"#46039f\"],[0.2222222222222222,\"#7201a8\"],[0.3333333333333333,\"#9c179e\"],[0.4444444444444444,\"#bd3786\"],[0.5555555555555556,\"#d8576b\"],[0.6666666666666666,\"#ed7953\"],[0.7777777777777778,\"#fb9f3a\"],[0.8888888888888888,\"#fdca26\"],[1.0,\"#f0f921\"]],\"sequentialminus\":[[0.0,\"#0d0887\"],[0.1111111111111111,\"#46039f\"],[0.2222222222222222,\"#7201a8\"],[0.3333333333333333,\"#9c179e\"],[0.4444444444444444,\"#bd3786\"],[0.5555555555555556,\"#d8576b\"],[0.6666666666666666,\"#ed7953\"],[0.7777777777777778,\"#fb9f3a\"],[0.8888888888888888,\"#fdca26\"],[1.0,\"#f0f921\"]],\"diverging\":[[0,\"#8e0152\"],[0.1,\"#c51b7d\"],[0.2,\"#de77ae\"],[0.3,\"#f1b6da\"],[0.4,\"#fde0ef\"],[0.5,\"#f7f7f7\"],[0.6,\"#e6f5d0\"],[0.7,\"#b8e186\"],[0.8,\"#7fbc41\"],[0.9,\"#4d9221\"],[1,\"#276419\"]]},\"xaxis\":{\"gridcolor\":\"white\",\"linecolor\":\"white\",\"ticks\":\"\",\"title\":{\"standoff\":15},\"zerolinecolor\":\"white\",\"automargin\":true,\"zerolinewidth\":2},\"yaxis\":{\"gridcolor\":\"white\",\"linecolor\":\"white\",\"ticks\":\"\",\"title\":{\"standoff\":15},\"zerolinecolor\":\"white\",\"automargin\":true,\"zerolinewidth\":2},\"scene\":{\"xaxis\":{\"backgroundcolor\":\"#E5ECF6\",\"gridcolor\":\"white\",\"linecolor\":\"white\",\"showbackground\":true,\"ticks\":\"\",\"zerolinecolor\":\"white\",\"gridwidth\":2},\"yaxis\":{\"backgroundcolor\":\"#E5ECF6\",\"gridcolor\":\"white\",\"linecolor\":\"white\",\"showbackground\":true,\"ticks\":\"\",\"zerolinecolor\":\"white\",\"gridwidth\":2},\"zaxis\":{\"backgroundcolor\":\"#E5ECF6\",\"gridcolor\":\"white\",\"linecolor\":\"white\",\"showbackground\":true,\"ticks\":\"\",\"zerolinecolor\":\"white\",\"gridwidth\":2}},\"shapedefaults\":{\"line\":{\"color\":\"#2a3f5f\"}},\"annotationdefaults\":{\"arrowcolor\":\"#2a3f5f\",\"arrowhead\":0,\"arrowwidth\":1},\"geo\":{\"bgcolor\":\"white\",\"landcolor\":\"#E5ECF6\",\"subunitcolor\":\"white\",\"showland\":true,\"showlakes\":true,\"lakecolor\":\"white\"},\"title\":{\"x\":0.05},\"mapbox\":{\"style\":\"light\"}}},\"xaxis\":{\"anchor\":\"y\",\"domain\":[0.0,1.0],\"title\":{\"text\":\"Q2_Incentive\"},\"showgrid\":true,\"gridwidth\":1,\"gridcolor\":\"lightgrey\",\"zeroline\":true,\"zerolinewidth\":1,\"zerolinecolor\":\"lightgrey\",\"showline\":true,\"linewidth\":1,\"linecolor\":\"black\"},\"yaxis\":{\"anchor\":\"x\",\"domain\":[0.0,1.0],\"title\":{\"text\":\"Q2 20 SC \"},\"showgrid\":true,\"gridwidth\":1,\"gridcolor\":\"lightgrey\",\"zeroline\":true,\"zerolinewidth\":1,\"zerolinecolor\":\"lightgrey\",\"showline\":true,\"linewidth\":1,\"linecolor\":\"black\"},\"legend\":{\"tracegroupgap\":0},\"margin\":{\"t\":60},\"plot_bgcolor\":\"white\",\"title\":{\"font\":{\"color\":\"black\"},\"text\":\"Score Card Vs. Incentive Scatter Plot\"}},                        {\"responsive\": true}                    ).then(function(){\n",
       "                            \n",
       "var gd = document.getElementById('cf3c394e-06a3-43ee-8137-a0ea6f3f3d21');\n",
       "var x = new MutationObserver(function (mutations, observer) {{\n",
       "        var display = window.getComputedStyle(gd).display;\n",
       "        if (!display || display === 'none') {{\n",
       "            console.log([gd, 'removed!']);\n",
       "            Plotly.purge(gd);\n",
       "            observer.disconnect();\n",
       "        }}\n",
       "}});\n",
       "\n",
       "// Listen for the removal of the full notebook cells\n",
       "var notebookContainer = gd.closest('#notebook-container');\n",
       "if (notebookContainer) {{\n",
       "    x.observe(notebookContainer, {childList: true});\n",
       "}}\n",
       "\n",
       "// Listen for the clearing of the current output cell\n",
       "var outputEl = gd.closest('.output');\n",
       "if (outputEl) {{\n",
       "    x.observe(outputEl, {childList: true});\n",
       "}}\n",
       "\n",
       "                        })                };                });            </script>        </div>"
      ]
     },
     "metadata": {},
     "output_type": "display_data"
    }
   ],
   "source": [
    "# Create a scatter plot\n",
    "fig = px.scatter(df, x=df['Q2_Incentive'], y=df['Q2 20 SC '], \n",
    "                 opacity=0.8, color_discrete_sequence=['black'])\n",
    "\n",
    "# Add the prediction line\n",
    "fig.add_traces(go.Scatter(x=x_range, y=y_range, name='Linear Regression', line=dict(color='limegreen')))\n",
    "fig.add_traces(go.Scatter(x=y_hat1[:,0], y=y_hat1[:,1], name='LOWESS, frac=2/3', line=dict(color='red')))\n",
    "fig.add_traces(go.Scatter(x=y_hat2[:,0], y=y_hat2[:,1], name='LOWESS, frac=1/5', line=dict(color='blue')))\n",
    "\n",
    "# Change chart background color\n",
    "fig.update_layout(dict(plot_bgcolor = 'white'))\n",
    "\n",
    "# Update axes lines\n",
    "fig.update_xaxes(showgrid=True, gridwidth=1, gridcolor='lightgrey', \n",
    "                 zeroline=True, zerolinewidth=1, zerolinecolor='lightgrey', \n",
    "                 showline=True, linewidth=1, linecolor='black')\n",
    "\n",
    "fig.update_yaxes(showgrid=True, gridwidth=1, gridcolor='lightgrey', \n",
    "                 zeroline=True, zerolinewidth=1, zerolinecolor='lightgrey', \n",
    "                 showline=True, linewidth=1, linecolor='black')\n",
    "\n",
    "# Set figure title\n",
    "fig.update_layout(title=dict(text=\"Score Card Vs. Incentive Scatter Plot\", \n",
    "                             font=dict(color='black')))\n",
    "\n",
    "# Update marker size\n",
    "fig.update_traces(marker=dict(size=3))\n",
    "\n",
    "fig.show()"
   ]
  },
  {
   "cell_type": "code",
   "execution_count": 24,
   "metadata": {},
   "outputs": [
    {
     "name": "stdout",
     "output_type": "stream",
     "text": [
      "coef_pval:\n",
      " [1.68087766e-13 0.00000000e+00]\n",
      "\n",
      "=========== SUMMARY ===========\n",
      "Residuals:\n",
      "    Min      1Q  Median   3Q    Max\n",
      "-7.2461 -0.1382  0.0828 0.25 3.4316\n",
      "\n",
      "\n",
      "Coefficients:\n",
      "              Estimate  Std. Error  t value  p value\n",
      "_intercept    0.645356    0.079207   8.1478      0.0\n",
      "Q2_Incentive  0.000000    0.000000  10.8438      0.0\n",
      "---\n",
      "R-squared:  0.35499,    Adjusted R-squared:  0.35045\n",
      "F-statistic: 78.15 on 1 features\n"
     ]
    }
   ],
   "source": [
    "from regressors import stats\n",
    "print(\"coef_pval:\\n\", stats.coef_pval(model1, X, y))\n",
    "\n",
    "# to print summary table:\n",
    "print(\"\\n=========== SUMMARY ===========\")\n",
    "xlabels = ['Q2_Incentive']\n",
    "stats.summary(model1, X, y, xlabels)"
   ]
  },
  {
   "cell_type": "code",
   "execution_count": 25,
   "metadata": {},
   "outputs": [],
   "source": [
    "import sklearn.metrics as metrics\n",
    "def regression_results(y_true, y_pred):\n",
    "\n",
    "    # Regression metrics\n",
    "    explained_variance=metrics.explained_variance_score(y_true, y_pred)\n",
    "    mean_absolute_error=metrics.mean_absolute_error(y_true, y_pred) \n",
    "    mse=metrics.mean_squared_error(y_true, y_pred)\n",
    "    median_absolute_error=metrics.median_absolute_error(y_true, y_pred)\n",
    "    r2=metrics.r2_score(y_true, y_pred)\n",
    "\n",
    "    print('explained_variance: ', round(explained_variance,4))\n",
    "    print('r2: ', round(r2,4))\n",
    "    print('MAE: ', round(mean_absolute_error,4))\n",
    "    print('MSE: ', round(mse,4))\n",
    "    print('RMSE: ', round(np.sqrt(mse),4))"
   ]
  },
  {
   "cell_type": "code",
   "execution_count": 26,
   "metadata": {},
   "outputs": [
    {
     "name": "stdout",
     "output_type": "stream",
     "text": [
      "explained_variance:  0.355\n",
      "r2:  0.355\n",
      "MAE:  0.3537\n",
      "MSE:  0.6089\n",
      "RMSE:  0.7803\n"
     ]
    }
   ],
   "source": [
    "# R-square of Linear Regression\n",
    "y_lin_pred = model1.predict(X)\n",
    "regression_results(y, y_lin_pred)"
   ]
  },
  {
   "cell_type": "code",
   "execution_count": 28,
   "metadata": {},
   "outputs": [
    {
     "name": "stdout",
     "output_type": "stream",
     "text": [
      "explained_variance:  0.431\n",
      "r2:  0.4255\n",
      "MAE:  0.3203\n",
      "MSE:  0.5424\n",
      "RMSE:  0.7365\n"
     ]
    }
   ],
   "source": [
    "# R-squared of LOWESS frac=2/3\n",
    "from scipy.interpolate import interp1d\n",
    "from sklearn.metrics import r2_score\n",
    "\n",
    "f_nearest = interp1d(y_hat1[:,0], y=y_hat1[:,1], bounds_error=False, kind='nearest', fill_value='extrapolate')\n",
    "y_pred1 = f_nearest(x)\n",
    "regression_results(y, y_pred1)"
   ]
  },
  {
   "cell_type": "code",
   "execution_count": 29,
   "metadata": {},
   "outputs": [
    {
     "ename": "ValueError",
     "evalue": "Input contains NaN.",
     "output_type": "error",
     "traceback": [
      "\u001b[1;31m---------------------------------------------------------------------------\u001b[0m",
      "\u001b[1;31mValueError\u001b[0m                                Traceback (most recent call last)",
      "\u001b[1;32m<ipython-input-29-7de0c56e73ea>\u001b[0m in \u001b[0;36m<module>\u001b[1;34m\u001b[0m\n\u001b[0;32m      5\u001b[0m \u001b[0mf_nearest\u001b[0m \u001b[1;33m=\u001b[0m \u001b[0minterp1d\u001b[0m\u001b[1;33m(\u001b[0m\u001b[0my_hat2\u001b[0m\u001b[1;33m[\u001b[0m\u001b[1;33m:\u001b[0m\u001b[1;33m,\u001b[0m\u001b[1;36m0\u001b[0m\u001b[1;33m]\u001b[0m\u001b[1;33m,\u001b[0m \u001b[0my\u001b[0m\u001b[1;33m=\u001b[0m\u001b[0my_hat2\u001b[0m\u001b[1;33m[\u001b[0m\u001b[1;33m:\u001b[0m\u001b[1;33m,\u001b[0m\u001b[1;36m1\u001b[0m\u001b[1;33m]\u001b[0m\u001b[1;33m,\u001b[0m \u001b[0mbounds_error\u001b[0m\u001b[1;33m=\u001b[0m\u001b[1;32mFalse\u001b[0m\u001b[1;33m,\u001b[0m \u001b[0mkind\u001b[0m\u001b[1;33m=\u001b[0m\u001b[1;34m'nearest'\u001b[0m\u001b[1;33m,\u001b[0m \u001b[0mfill_value\u001b[0m\u001b[1;33m=\u001b[0m\u001b[1;34m'extrapolate'\u001b[0m\u001b[1;33m)\u001b[0m\u001b[1;33m\u001b[0m\u001b[1;33m\u001b[0m\u001b[0m\n\u001b[0;32m      6\u001b[0m \u001b[0my_pred2\u001b[0m \u001b[1;33m=\u001b[0m \u001b[0mf_nearest\u001b[0m\u001b[1;33m(\u001b[0m\u001b[0mx\u001b[0m\u001b[1;33m)\u001b[0m\u001b[1;33m\u001b[0m\u001b[1;33m\u001b[0m\u001b[0m\n\u001b[1;32m----> 7\u001b[1;33m \u001b[0mprint\u001b[0m\u001b[1;33m(\u001b[0m\u001b[0mr2_score\u001b[0m\u001b[1;33m(\u001b[0m\u001b[0my\u001b[0m\u001b[1;33m,\u001b[0m \u001b[0my_pred2\u001b[0m\u001b[1;33m)\u001b[0m\u001b[1;33m)\u001b[0m\u001b[1;33m\u001b[0m\u001b[1;33m\u001b[0m\u001b[0m\n\u001b[0m",
      "\u001b[1;32mC:\\ProgramData\\Anaconda3\\lib\\site-packages\\sklearn\\metrics\\_regression.py\u001b[0m in \u001b[0;36mr2_score\u001b[1;34m(y_true, y_pred, sample_weight, multioutput, force_finite)\u001b[0m\n\u001b[0;32m    909\u001b[0m     \u001b[1;33m-\u001b[0m\u001b[0minf\u001b[0m\u001b[1;33m\u001b[0m\u001b[1;33m\u001b[0m\u001b[0m\n\u001b[0;32m    910\u001b[0m     \"\"\"\n\u001b[1;32m--> 911\u001b[1;33m     y_type, y_true, y_pred, multioutput = _check_reg_targets(\n\u001b[0m\u001b[0;32m    912\u001b[0m         \u001b[0my_true\u001b[0m\u001b[1;33m,\u001b[0m \u001b[0my_pred\u001b[0m\u001b[1;33m,\u001b[0m \u001b[0mmultioutput\u001b[0m\u001b[1;33m\u001b[0m\u001b[1;33m\u001b[0m\u001b[0m\n\u001b[0;32m    913\u001b[0m     )\n",
      "\u001b[1;32mC:\\ProgramData\\Anaconda3\\lib\\site-packages\\sklearn\\metrics\\_regression.py\u001b[0m in \u001b[0;36m_check_reg_targets\u001b[1;34m(y_true, y_pred, multioutput, dtype)\u001b[0m\n\u001b[0;32m    100\u001b[0m     \u001b[0mcheck_consistent_length\u001b[0m\u001b[1;33m(\u001b[0m\u001b[0my_true\u001b[0m\u001b[1;33m,\u001b[0m \u001b[0my_pred\u001b[0m\u001b[1;33m)\u001b[0m\u001b[1;33m\u001b[0m\u001b[1;33m\u001b[0m\u001b[0m\n\u001b[0;32m    101\u001b[0m     \u001b[0my_true\u001b[0m \u001b[1;33m=\u001b[0m \u001b[0mcheck_array\u001b[0m\u001b[1;33m(\u001b[0m\u001b[0my_true\u001b[0m\u001b[1;33m,\u001b[0m \u001b[0mensure_2d\u001b[0m\u001b[1;33m=\u001b[0m\u001b[1;32mFalse\u001b[0m\u001b[1;33m,\u001b[0m \u001b[0mdtype\u001b[0m\u001b[1;33m=\u001b[0m\u001b[0mdtype\u001b[0m\u001b[1;33m)\u001b[0m\u001b[1;33m\u001b[0m\u001b[1;33m\u001b[0m\u001b[0m\n\u001b[1;32m--> 102\u001b[1;33m     \u001b[0my_pred\u001b[0m \u001b[1;33m=\u001b[0m \u001b[0mcheck_array\u001b[0m\u001b[1;33m(\u001b[0m\u001b[0my_pred\u001b[0m\u001b[1;33m,\u001b[0m \u001b[0mensure_2d\u001b[0m\u001b[1;33m=\u001b[0m\u001b[1;32mFalse\u001b[0m\u001b[1;33m,\u001b[0m \u001b[0mdtype\u001b[0m\u001b[1;33m=\u001b[0m\u001b[0mdtype\u001b[0m\u001b[1;33m)\u001b[0m\u001b[1;33m\u001b[0m\u001b[1;33m\u001b[0m\u001b[0m\n\u001b[0m\u001b[0;32m    103\u001b[0m \u001b[1;33m\u001b[0m\u001b[0m\n\u001b[0;32m    104\u001b[0m     \u001b[1;32mif\u001b[0m \u001b[0my_true\u001b[0m\u001b[1;33m.\u001b[0m\u001b[0mndim\u001b[0m \u001b[1;33m==\u001b[0m \u001b[1;36m1\u001b[0m\u001b[1;33m:\u001b[0m\u001b[1;33m\u001b[0m\u001b[1;33m\u001b[0m\u001b[0m\n",
      "\u001b[1;32mC:\\ProgramData\\Anaconda3\\lib\\site-packages\\sklearn\\utils\\validation.py\u001b[0m in \u001b[0;36mcheck_array\u001b[1;34m(array, accept_sparse, accept_large_sparse, dtype, order, copy, force_all_finite, ensure_2d, allow_nd, ensure_min_samples, ensure_min_features, estimator, input_name)\u001b[0m\n\u001b[0;32m    897\u001b[0m \u001b[1;33m\u001b[0m\u001b[0m\n\u001b[0;32m    898\u001b[0m         \u001b[1;32mif\u001b[0m \u001b[0mforce_all_finite\u001b[0m\u001b[1;33m:\u001b[0m\u001b[1;33m\u001b[0m\u001b[1;33m\u001b[0m\u001b[0m\n\u001b[1;32m--> 899\u001b[1;33m             _assert_all_finite(\n\u001b[0m\u001b[0;32m    900\u001b[0m                 \u001b[0marray\u001b[0m\u001b[1;33m,\u001b[0m\u001b[1;33m\u001b[0m\u001b[1;33m\u001b[0m\u001b[0m\n\u001b[0;32m    901\u001b[0m                 \u001b[0minput_name\u001b[0m\u001b[1;33m=\u001b[0m\u001b[0minput_name\u001b[0m\u001b[1;33m,\u001b[0m\u001b[1;33m\u001b[0m\u001b[1;33m\u001b[0m\u001b[0m\n",
      "\u001b[1;32mC:\\ProgramData\\Anaconda3\\lib\\site-packages\\sklearn\\utils\\validation.py\u001b[0m in \u001b[0;36m_assert_all_finite\u001b[1;34m(X, allow_nan, msg_dtype, estimator_name, input_name)\u001b[0m\n\u001b[0;32m    144\u001b[0m                     \u001b[1;34m\"#estimators-that-handle-nan-values\"\u001b[0m\u001b[1;33m\u001b[0m\u001b[1;33m\u001b[0m\u001b[0m\n\u001b[0;32m    145\u001b[0m                 )\n\u001b[1;32m--> 146\u001b[1;33m             \u001b[1;32mraise\u001b[0m \u001b[0mValueError\u001b[0m\u001b[1;33m(\u001b[0m\u001b[0mmsg_err\u001b[0m\u001b[1;33m)\u001b[0m\u001b[1;33m\u001b[0m\u001b[1;33m\u001b[0m\u001b[0m\n\u001b[0m\u001b[0;32m    147\u001b[0m \u001b[1;33m\u001b[0m\u001b[0m\n\u001b[0;32m    148\u001b[0m     \u001b[1;31m# for object dtype data, we only check for NaNs (GH-13254)\u001b[0m\u001b[1;33m\u001b[0m\u001b[1;33m\u001b[0m\u001b[1;33m\u001b[0m\u001b[0m\n",
      "\u001b[1;31mValueError\u001b[0m: Input contains NaN."
     ]
    }
   ],
   "source": [
    "# R-squared of LOWESS frac=1/5\n",
    "from scipy.interpolate import interp1d\n",
    "from sklearn.metrics import r2_score\n",
    "\n",
    "f_nearest = interp1d(y_hat2[:,0], y=y_hat2[:,1], bounds_error=False, kind='nearest', fill_value='extrapolate')\n",
    "y_pred2 = f_nearest(x)\n",
    "print(r2_score(y, y_pred2))"
   ]
  }
 ],
 "metadata": {
  "kernelspec": {
   "display_name": "Python 3 (ipykernel)",
   "language": "python",
   "name": "python3"
  },
  "language_info": {
   "codemirror_mode": {
    "name": "ipython",
    "version": 3
   },
   "file_extension": ".py",
   "mimetype": "text/x-python",
   "name": "python",
   "nbconvert_exporter": "python",
   "pygments_lexer": "ipython3",
   "version": "3.9.12"
  },
  "toc": {
   "base_numbering": 1,
   "nav_menu": {},
   "number_sections": true,
   "sideBar": true,
   "skip_h1_title": false,
   "title_cell": "Table of Contents",
   "title_sidebar": "Contents",
   "toc_cell": false,
   "toc_position": {},
   "toc_section_display": true,
   "toc_window_display": false
  }
 },
 "nbformat": 4,
 "nbformat_minor": 4
}
